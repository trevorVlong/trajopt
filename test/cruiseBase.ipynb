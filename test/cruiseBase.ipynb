{
 "cells": [
  {
   "cell_type": "code",
   "execution_count": null,
   "id": "initial_id",
   "metadata": {
    "collapsed": true,
    "is_executing": true
   },
   "outputs": [],
   "source": [
    "import aerosandbox as asb\n",
    "import aerosandbox.numpy as np\n",
    "import matplotlib.pyplot as plt\n",
    "\n",
    "from dynamics.RigidMotion.Aircraft2D import Aircraft2DPointMass\n",
    "from aerodynamics.SimpleAircraft2D import ThinAirfoilModel\n",
    "from aerosandbox.numpy.integrate_discrete import integrate_discrete_squared_curvature as int_desc"
   ]
  },
  {
   "cell_type": "code",
   "execution_count": null,
   "outputs": [],
   "source": [
    "# initialize the optimization problem class\n",
    "opti = asb.Opti()\n",
    "\n",
    "# set up the problem as a constant dt problem, initialize different opti.variable instances for each of the 'free' variables\n",
    "dt = .1\n",
    "time = np.arange(0,10,dt)\n",
    "N = np.length(time)\n",
    "dyn = Aircraft2DPointMass(\n",
    "    mass = 9.54, # kg # vehicle mass is encoded in the point mass info\n",
    "    Iyy = 1.83, # kg-m^2 # vehicle rolling inertia contained in point mass info\n",
    "    x_earth = opti.variable(init_guess=1*np.linspace(1,100,N),upper_bound=1e4,lower_bound=-1),  # [m] earth x-position\n",
    "    z_earth = opti.variable(init_guess=1*np.linspace(1,100,N),upper_bound=1e4,lower_bound=-1e4), # [m] # earth z-position (altitude)\n",
    "    w_body = opti.variable(init_guess=0*np.linspace(1,30,N),upper_bound=2,lower_bound=-2), # [m/s] z-component body velocity\n",
    "    u_body = opti.variable(init_guess=1*np.linspace(1,30,N),upper_bound=30,lower_bound=0), # [m/s] x-component body velocity\n",
    "    pitch = opti.variable(init_guess=0*np.linspace(1,100,N),upper_bound=30,lower_bound=-30),  # [deg] pitch of the aircraft w.r.t. x-axis in the earth frame,\n",
    "    pitch_rate = opti.variable(init_guess=np.zeros((N,)), upper_bound=20,lower_bound=-20),\n",
    "    flap_deflection= 1 * np.ones(time.shape), # [deg] flap deflection angle (+ down)\n",
    "    elevator_deflection = opti.variable(init_guess=0*np.linspace(1,100,N),upper_bound=10,lower_bound=-10), # [deg] horizontal tail deflection angle (+ down)\n",
    "    throttle_position = opti.variable(init_guess=0*np.ones(time.shape),upper_bound=1,lower_bound=0) # [-] throttle position from 0-1\n",
    "    # delta_T=np.zeros(time.shape)\n",
    ")\n",
    "\n",
    "dyn.WindModel.setParameters(model_name='gaussian1D', **{'STD':10,'center':50,'MaxGustVelocity':-3,'axis':'x'})\n",
    "\n",
    "# encode aircraft dimensional information into point mass class\n",
    "dyn.Span = 3.05\n",
    "dyn.ChordMean = 0.38\n",
    "dyn.TailSpan = 1.27\n",
    "dyn.TailChordMean = 0.25\n",
    "dyn.Area = 1.09\n",
    "dyn.TailArea = 0.2"
   ],
   "metadata": {
    "collapsed": false,
    "is_executing": true
   },
   "id": "bf8d13d8954c6aee"
  },
  {
   "cell_type": "code",
   "execution_count": null,
   "outputs": [],
   "source": [
    "# Initialize the dynamics model (for exactly how it works, enter the ThinAirfoilModel() class file\n",
    "amodel = ThinAirfoilModel()\n",
    "\n",
    "# generate the Lift, drag, and moment dyamics equations from the aeromodel, \n",
    "L,D,M = amodel.getForcesAndMoments(dyn)\n",
    "cl,cd,cm = amodel.fullDynamicsModel(dyn)\n",
    "Thrust = amodel.thrustModel(dyn) # thrust separately to simplify for now\n",
    "\n",
    "#=================================================\n",
    "# add constraints to the constraint list\n",
    "\n",
    "# aero forces added in aero frame\n",
    "dyn.add_force(D,L,from_axes='wind')\n",
    "dyn.add_moment(M)\n",
    "\n",
    "# non-aero forces added in the easiest frame of reference to do out the math\n",
    "dyn.add_force(0,dyn.Mass*9.81,from_axes='earth')\n",
    "#dyn.add_force(Thrust,0,from_axes='body')\n",
    "dyn.add_force(Thrust,0,from_axes='body')\n",
    "dyn.add_moment(Thrust * 0.1)"
   ],
   "metadata": {
    "collapsed": false,
    "is_executing": true
   },
   "id": "b820729a2b3b5602"
  },
  {
   "cell_type": "code",
   "execution_count": null,
   "outputs": [],
   "source": [
    "# start adding constraints. This section contains general contraints (i.e. forward motion, must not be in contact with ground etc) \n",
    "\n",
    "# general forward motion and ground boundayr conditions\n",
    "opti.subject_to([\n",
    "    dyn.BodyXVelocity >= 0,\n",
    "    dyn.Altitude >= 0,\n",
    "    dyn.EarthXPosition >=0,\n",
    "    dyn.Airspeed >= 5\n",
    "])\n",
    "\n",
    "\n",
    "\n",
    "# aero model limitations on AoA \n",
    "opti.subject_to([\n",
    "    dyn.Alpha**2 <=144\n",
    "])\n",
    "\n",
    "# ===========================================================\n",
    "# set simulation - specific limits on control variables\n",
    "\n",
    "# get rates for directly-controlled state/control variables\n",
    "throttle_rate = np.diff(dyn.ThrottlePosition) / np.diff(time)\n",
    "tail_rate = np.diff(dyn.ElevatorPosition) / np.diff(time)\n",
    "\n",
    "# set constraints\n",
    "opti.subject_to([\n",
    "    # flap_rate >= -2,\n",
    "    # flap_rate <= 2,\n",
    "    tail_rate**2 <= 10,\n",
    "    dyn.ElevatorPosition**2 <= 100 ,\n",
    "    dyn.PitchRate**2 <= 100,\n",
    "    dyn.ThrottlePosition >= 0,\n",
    "    dyn.ThrottlePosition < 1, \n",
    "    throttle_rate**2 < 0.2,\n",
    "])"
   ],
   "metadata": {
    "collapsed": false,
    "is_executing": true
   },
   "id": "91d1af74e5bf6d77"
  },
  {
   "cell_type": "code",
   "execution_count": null,
   "outputs": [],
   "source": [
    "# problem specific dynamics constraints including start-end boundary conditions\n",
    "\n",
    "# start constraints, in general must start at a relatively steady-level flight condition\n",
    "opti.subject_to([\n",
    "    dyn.EarthXPosition[0] == 0,  # starting position arbitrarily 0\n",
    "    dyn.Altitude[0] == 200,  # starting Altitude of 2km (~180 ft),\n",
    "    # dyn.DeltaThrottle[0] ==0.01, # throttle starts near 0\n",
    "    \n",
    "])\n",
    "\n",
    "# end constraints -- level flight\n",
    "\n",
    "# cruise constraints\n",
    "opti.subject_to([\n",
    "    (dyn.Altitude[1:]-dyn.Altitude[0])**2 < 20,\n",
    "    (dyn.Airspeed[1:] - dyn.Airspeed[0])**2 < 1,\n",
    "    dyn.glide_slope**2 < 0.8,\n",
    "    (dyn.Alpha[1:]-dyn.Alpha[0]) ** 2 <1,\n",
    "    dyn.Altitude[-1]-dyn.Altitude[0] >= 0\n",
    "])\n",
    "curv = int_desc(dyn.ElevatorPosition/25,time) + int_desc(dyn.ThrottlePosition,time)\n",
    "\n",
    "# cost function for the optimizer to work against\n",
    "opti.minimize(1e-2*np.sum(curv) + np.mean(cd) + 5*np.sum(dyn.ElevatorPosition**2) + np.sum(dyn.ThrottlePosition**2))\n",
    "\n",
    "# send constraints to the opti instance\n",
    "dyn.constrain_derivatives(opti,time,method='cubic')"
   ],
   "metadata": {
    "collapsed": false,
    "is_executing": true
   },
   "id": "eae401b1c87b7734"
  },
  {
   "cell_type": "code",
   "execution_count": null,
   "outputs": [],
   "source": [
    "# run the optimizaiton problem, if it fails return the last solution. The optimizer is very sensitive to boundary constraints, so it will sometimes fail even though a solution is nearly correct so it is reasonable to inspect those solutions sometimes\n",
    "try:\n",
    "    sol = opti.solve(max_iter=2000,behavior_on_failure=\"return_last\",detect_simple_bounds=True)\n",
    "    dyn = sol(dyn)\n",
    "    x_e = dyn.EarthXPosition\n",
    "    z_e = dyn.Altitude\n",
    "    u = dyn.BodyXVelocity\n",
    "    w = dyn.BodyZVelocity\n",
    "    time = sol(time)\n",
    "    \n",
    "except RuntimeError:\n",
    "    dyn = sol(dyn)\n",
    "    x_e = dyn.EarthXPosition\n",
    "    z_e = dyn.Altitude\n",
    "    u = dyn.BodyXVelocity\n",
    "    w = dyn.BodyZVelocity\n",
    "    time = sol(time)\n"
   ],
   "metadata": {
    "collapsed": false,
    "is_executing": true
   },
   "id": "8e9b89aea627c0e7"
  },
  {
   "cell_type": "code",
   "execution_count": null,
   "outputs": [],
   "source": [
    "# everything from here on is plotting and plotting to debug and so is not yet totally cleaned. \n",
    "\n",
    "from dynamics.RigidMotion.visualization import visualizeRun2D\n",
    "fig_dict = visualizeRun2D(time,dyn)"
   ],
   "metadata": {
    "collapsed": false,
    "is_executing": true
   },
   "id": "75e23ddc1d160d8f"
  },
  {
   "cell_type": "code",
   "execution_count": null,
   "outputs": [],
   "source": [],
   "metadata": {
    "collapsed": false,
    "is_executing": true
   },
   "id": "8ed52cdf999e77cb"
  },
  {
   "cell_type": "code",
   "execution_count": null,
   "outputs": [],
   "source": [
    "L,D,M = amodel.getForcesAndMoments(dyn)\n",
    "cl,cd,cm = amodel.fullDynamicsModel(dyn)\n",
    "clt,cdt,cmt = amodel.tailDynamicsModel(dyn)\n",
    "clw,cdw,cmw = amodel.wingDynamicsModel(dyn)\n",
    "thrust = amodel.thrustModel(dyn)"
   ],
   "metadata": {
    "collapsed": false,
    "is_executing": true
   },
   "id": "d7b0f5f02a92ad15"
  },
  {
   "cell_type": "code",
   "execution_count": null,
   "outputs": [],
   "source": [
    "\n",
    "\n",
    "\n",
    "plt.plot(time,dyn.EarthZVelocity,label='earth_vert')\n",
    "plt.plot(time,dyn.Altitude-dyn.Altitude[0],label='alt')\n",
    "plt.plot(time,dyn.Pitch,label='pitch')\n",
    "plt.plot(time,dyn.ElevatorPosition,label='elev')\n",
    "\n",
    "\n",
    "plt.legend()"
   ],
   "metadata": {
    "collapsed": false,
    "is_executing": true
   },
   "id": "3158075d1ed6099b"
  },
  {
   "cell_type": "code",
   "execution_count": null,
   "outputs": [],
   "source": [
    "  \n",
    "plt.plot(time,dyn.BodyZVelocity,label='w_e')\n",
    "plt.plot(time,dyn.BodyXVelocity,label='u_b')\n",
    "plt.plot(time,dyn.Altitude-dyn.Altitude[0],label='dalt')\n",
    "plt.legend()"
   ],
   "metadata": {
    "collapsed": false,
    "is_executing": true
   },
   "id": "ebc33f2e326ed480"
  },
  {
   "cell_type": "code",
   "execution_count": null,
   "outputs": [],
   "source": [
    "plt.plot(time,cmw,label='cmw')\n",
    "plt.plot(time,cmt,label='cmt')\n",
    "plt.plot(time,cm)\n",
    "plt.legend()"
   ],
   "metadata": {
    "collapsed": false,
    "is_executing": true
   },
   "id": "69330e52f13a1e16"
  },
  {
   "cell_type": "code",
   "execution_count": null,
   "outputs": [],
   "source": [
    "plt.plot(time,dyn.Pitch)\n",
    "plt.plot(time,dyn.DeltaElevator)\n",
    "\n",
    "\n",
    "plt.legend()"
   ],
   "metadata": {
    "collapsed": false,
    "is_executing": true
   },
   "id": "8e3f5beaf4cf9fbd"
  },
  {
   "cell_type": "code",
   "execution_count": null,
   "outputs": [],
   "source": [
    "plt.plot(time,dyn.Fx_b,label='xforce')\n",
    "plt.plot(time,dyn.Pitch,label='pitch')\n",
    "plt.plot(time,thrust,label='thrust-force')\n",
    "fx,fz = dyn.convert_axes(D,0,from_axes='wind',to_axes='body')\n",
    "plt.plot(time,fx  ,label='drag force')\n",
    "plt.plot(time,dyn.a_x,label='ax')\n",
    "\n",
    "plt.legend()\n"
   ],
   "metadata": {
    "collapsed": false,
    "is_executing": true
   },
   "id": "ad3ed07d5902b25e"
  },
  {
   "cell_type": "code",
   "execution_count": null,
   "outputs": [],
   "source": [
    "\n",
    "plt.plot(time,dyn.Airspeed*np.cosd(dyn.Pitch),label='u_e')\n",
    "# plt.plot(time,dyn.speed*np.sind(dyn.Pitch),label='w_e')\n",
    "plt.plot(time,dyn.w_e,label='computed w_e')\n",
    "plt.plot(time,dyn.Pitch,label='pitch')\n",
    "\n",
    "plt.legend()"
   ],
   "metadata": {
    "collapsed": false,
    "is_executing": true
   },
   "id": "146f896bc2d8bc58"
  },
  {
   "cell_type": "code",
   "execution_count": null,
   "outputs": [],
   "source": [
    "plt.plot(clt)\n",
    "plt.plot(dyn.alpha)"
   ],
   "metadata": {
    "collapsed": false,
    "is_executing": true
   },
   "id": "74b6f7be6fecce86"
  },
  {
   "cell_type": "code",
   "execution_count": null,
   "outputs": [],
   "source": [
    "plt.figure()\n",
    "\n",
    "plt.plot(time,dyn.KE-dyn.KE[0],label='KE')\n",
    "plt.plot(time,dyn.PE-dyn.PE[0],label='PE')\n",
    "plt.plot(time,dyn.TE-dyn.TE[0],label='TE')\n",
    "plt.legend()"
   ],
   "metadata": {
    "collapsed": false,
    "is_executing": true
   },
   "id": "1bbf296515aa3c0a"
  },
  {
   "cell_type": "code",
   "execution_count": null,
   "outputs": [],
   "source": [
    "dyn.z_e[-1]"
   ],
   "metadata": {
    "collapsed": false,
    "is_executing": true
   },
   "id": "896d84fa2ad7e9ca"
  },
  {
   "cell_type": "code",
   "execution_count": null,
   "outputs": [],
   "source": [
    "dyn.z_e[0]"
   ],
   "metadata": {
    "collapsed": false,
    "is_executing": true
   },
   "id": "e0208188b438c4ac"
  },
  {
   "cell_type": "code",
   "execution_count": null,
   "outputs": [],
   "source": [
    "plt.plot(time,cmw)\n",
    "plt.plot(time,clt,label='clt')\n",
    "plt.plot(time,cm,label='cm',color='green')\n",
    "plt.plot(time,dyn.My_b,label='my')\n",
    "plt.plot(time,dyn.Pitch/100,label='Pitch')\n",
    "\n",
    "plt.legend()\n"
   ],
   "metadata": {
    "collapsed": false,
    "is_executing": true
   },
   "id": "2b00c3b899f0d4f8"
  },
  {
   "cell_type": "code",
   "execution_count": null,
   "outputs": [],
   "source": [
    "plt.plot(dyn.delta_T)"
   ],
   "metadata": {
    "collapsed": false,
    "is_executing": true
   },
   "id": "ca10612c8a68963b"
  },
  {
   "cell_type": "code",
   "execution_count": null,
   "outputs": [],
   "source": [
    " np.array([dyn.Pitch,dyn.dtheta]).T"
   ],
   "metadata": {
    "collapsed": false,
    "is_executing": true
   },
   "id": "64fb0566da715df7"
  },
  {
   "cell_type": "code",
   "execution_count": null,
   "outputs": [],
   "source": [
    "dyn.BodyXVelocity"
   ],
   "metadata": {
    "collapsed": false,
    "is_executing": true
   },
   "id": "a81b18f6306f95b"
  },
  {
   "cell_type": "code",
   "execution_count": null,
   "outputs": [],
   "source": [
    "dyn.My_b"
   ],
   "metadata": {
    "collapsed": false,
    "is_executing": true
   },
   "id": "1bb7c5d4ea9c4f20"
  },
  {
   "cell_type": "code",
   "execution_count": null,
   "outputs": [],
   "source": [
    "dyn.Altitude"
   ],
   "metadata": {
    "collapsed": false,
    "is_executing": true
   },
   "id": "ad4ced1a7d31b699"
  },
  {
   "cell_type": "code",
   "execution_count": null,
   "outputs": [],
   "source": [],
   "metadata": {
    "collapsed": false,
    "is_executing": true
   },
   "id": "7be5737f87ea722c"
  }
 ],
 "metadata": {
  "kernelspec": {
   "display_name": "Python 3",
   "language": "python",
   "name": "python3"
  },
  "language_info": {
   "codemirror_mode": {
    "name": "ipython",
    "version": 2
   },
   "file_extension": ".py",
   "mimetype": "text/x-python",
   "name": "python",
   "nbconvert_exporter": "python",
   "pygments_lexer": "ipython2",
   "version": "2.7.6"
  }
 },
 "nbformat": 4,
 "nbformat_minor": 5
}

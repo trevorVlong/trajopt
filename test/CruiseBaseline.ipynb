{
 "cells": [
  {
   "cell_type": "code",
   "execution_count": 1,
   "id": "initial_id",
   "metadata": {
    "collapsed": true,
    "ExecuteTime": {
     "end_time": "2025-06-16T20:00:19.009593Z",
     "start_time": "2025-06-16T20:00:11.926372Z"
    }
   },
   "outputs": [],
   "source": [
    "import aerosandbox as asb\n",
    "import aerosandbox.numpy as np\n",
    "from dynamics.rigid_body_dynamics.Aircraft2D import Aircraft2DPointMass\n",
    "import pathlib as plb\n",
    "from dynamics.AeroModelling.SimpleAircraft2D import SimpleAircraft2D\n",
    "from dynamics.AeroModelling.airfoilPerformanceModels import liftCoefficientFlapAlfa,momentCoefficientFlapAlfa,dragCoefficientFlapAlfa\n",
    "\n",
    "from dynamics.AeroModelling.courtinSurrogates import *\n",
    "from dynamics.AeroModelling.propulsorModels import *"
   ]
  },
  {
   "cell_type": "code",
   "execution_count": 2,
   "outputs": [],
   "source": [
    "# generate aircraft model, assign parameter for wing, tail\n",
    "Throttle = dyn.delta_T*20/100 * (9.81*dyn.mass) # give thrust as a fraction of the weight\n",
    "b = 3.05\n",
    "c = 0.38\n",
    "bt = 1.27\n",
    "ct = 0.25\n",
    "\n",
    "# blowing / other params\n",
    "E = 0.3 # flap chord fraction\n",
    "Adisk = .065\n",
    "h = 0.1\n",
    "c = 0.38\n",
    "rho = 1.225\n",
    "# aircraft model, add geometric params\n",
    "AeroModel = SimpleAircraft2D()\n",
    "# mass\n",
    "# inertia\n",
    "# wing, tail span, chord, areas\n",
    "\n"
   ],
   "metadata": {
    "collapsed": false,
    "ExecuteTime": {
     "end_time": "2025-06-16T20:00:19.116858Z",
     "start_time": "2025-06-16T20:00:19.010184Z"
    }
   },
   "id": "33d7162d3b110f9e"
  },
  {
   "cell_type": "code",
   "execution_count": 2,
   "outputs": [],
   "source": [
    "# set up tail aero model\n",
    "AeroModel.LiftCoeffTailFunc = lambda x,y,z: 2*np.pi*x\n",
    "AeroModel.DragCoeffTailFunc = lambda x,y,z: 2*np.pi*x # need to double check what this is func of\n",
    "AeroModel.MomentCoeffTailFunc = lambda x,y,z: 0"
   ],
   "metadata": {
    "collapsed": false,
    "ExecuteTime": {
     "end_time": "2025-06-16T20:00:19.120538Z",
     "start_time": "2025-06-16T20:00:19.117021Z"
    }
   },
   "id": "7cf20a9cdbc1a457"
  },
  {
   "cell_type": "code",
   "execution_count": 3,
   "outputs": [
    {
     "name": "stdout",
     "output_type": "stream",
     "text": [
      "This is Ipopt version 3.14.11, running with linear solver MUMPS 5.4.1.\n",
      "\n",
      "Number of nonzeros in equality constraint Jacobian...:        0\n",
      "Number of nonzeros in inequality constraint Jacobian.:        0\n",
      "Number of nonzeros in Lagrangian Hessian.............:       21\n",
      "\n",
      "Total number of variables............................:        6\n",
      "                     variables with only lower bounds:        0\n",
      "                variables with lower and upper bounds:        0\n",
      "                     variables with only upper bounds:        0\n",
      "Total number of equality constraints.................:        0\n",
      "Total number of inequality constraints...............:        0\n",
      "        inequality constraints with only lower bounds:        0\n",
      "   inequality constraints with lower and upper bounds:        0\n",
      "        inequality constraints with only upper bounds:        0\n",
      "\n",
      "iter    objective    inf_pr   inf_du lg(mu)  ||d||  lg(rg) alpha_du alpha_pr  ls\n",
      "   0  7.9915440e+03 0.00e+00 1.00e+02   0.0 0.00e+00    -  0.00e+00 0.00e+00   0\n",
      "   1  3.1830753e-02 0.00e+00 4.18e-13 -11.0 1.00e+00    -  1.00e+00 1.00e+00f  1\n",
      "\n",
      "Number of Iterations....: 1\n",
      "\n",
      "                                   (scaled)                 (unscaled)\n",
      "Objective...............:   2.1082303652251064e-04    3.1830753372653453e-02\n",
      "Dual infeasibility......:   4.1845343689773124e-13    6.3179472070684639e-11\n",
      "Constraint violation....:   0.0000000000000000e+00    0.0000000000000000e+00\n",
      "Variable bound violation:   0.0000000000000000e+00    0.0000000000000000e+00\n",
      "Complementarity.........:   0.0000000000000000e+00    0.0000000000000000e+00\n",
      "Overall NLP error.......:   4.1845343689773124e-13    6.3179472070684639e-11\n",
      "\n",
      "\n",
      "Number of objective function evaluations             = 2\n",
      "Number of objective gradient evaluations             = 2\n",
      "Number of equality constraint evaluations            = 0\n",
      "Number of inequality constraint evaluations          = 0\n",
      "Number of equality constraint Jacobian evaluations   = 0\n",
      "Number of inequality constraint Jacobian evaluations = 0\n",
      "Number of Lagrangian Hessian evaluations             = 1\n",
      "Total seconds in IPOPT                               = 0.002\n",
      "\n",
      "EXIT: Optimal Solution Found.\n",
      "      solver  :   t_proc      (avg)   t_wall      (avg)    n_eval\n",
      "       nlp_f  |  26.00us ( 13.00us)  25.33us ( 12.67us)         2\n",
      "  nlp_grad_f  |  56.00us ( 18.67us)  56.29us ( 18.76us)         3\n",
      "  nlp_hess_l  |  40.00us ( 40.00us)  39.75us ( 39.75us)         1\n",
      "       total  |   2.15ms (  2.15ms)   2.23ms (  2.23ms)         1\n",
      "This is Ipopt version 3.14.11, running with linear solver MUMPS 5.4.1.\n",
      "\n",
      "Number of nonzeros in equality constraint Jacobian...:        0\n",
      "Number of nonzeros in inequality constraint Jacobian.:        0\n",
      "Number of nonzeros in Lagrangian Hessian.............:       10\n",
      "\n",
      "Total number of variables............................:        4\n",
      "                     variables with only lower bounds:        0\n",
      "                variables with lower and upper bounds:        0\n",
      "                     variables with only upper bounds:        0\n",
      "Total number of equality constraints.................:        0\n",
      "Total number of inequality constraints...............:        0\n",
      "        inequality constraints with only lower bounds:        0\n",
      "   inequality constraints with lower and upper bounds:        0\n",
      "        inequality constraints with only upper bounds:        0\n",
      "\n",
      "iter    objective    inf_pr   inf_du lg(mu)  ||d||  lg(rg) alpha_du alpha_pr  ls\n",
      "   0  7.5475686e+03 0.00e+00 1.00e+02   0.0 0.00e+00    -  0.00e+00 0.00e+00   0\n",
      "   1  5.5757037e-05 0.00e+00 7.11e-14 -11.0 1.00e+00    -  1.00e+00 1.00e+00f  1\n",
      "\n",
      "Number of Iterations....: 1\n",
      "\n",
      "                                   (scaled)                 (unscaled)\n",
      "Objective...............:   3.6933748802308979e-07    5.5757037407371805e-05\n",
      "Dual infeasibility......:   7.1129519808948599e-14    1.0738068637397570e-11\n",
      "Constraint violation....:   0.0000000000000000e+00    0.0000000000000000e+00\n",
      "Variable bound violation:   0.0000000000000000e+00    0.0000000000000000e+00\n",
      "Complementarity.........:   0.0000000000000000e+00    0.0000000000000000e+00\n",
      "Overall NLP error.......:   7.1129519808948599e-14    1.0738068637397570e-11\n",
      "\n",
      "\n",
      "Number of objective function evaluations             = 2\n",
      "Number of objective gradient evaluations             = 2\n",
      "Number of equality constraint evaluations            = 0\n",
      "Number of inequality constraint evaluations          = 0\n",
      "Number of equality constraint Jacobian evaluations   = 0\n",
      "Number of inequality constraint Jacobian evaluations = 0\n",
      "Number of Lagrangian Hessian evaluations             = 1\n",
      "Total seconds in IPOPT                               = 0.001\n",
      "\n",
      "EXIT: Optimal Solution Found.\n",
      "      solver  :   t_proc      (avg)   t_wall      (avg)    n_eval\n",
      "       nlp_f  |  25.00us ( 12.50us)  23.33us ( 11.67us)         2\n",
      "  nlp_grad_f  |  50.00us ( 16.67us)  51.00us ( 17.00us)         3\n",
      "  nlp_hess_l  |  29.00us ( 29.00us)  28.33us ( 28.33us)         1\n",
      "       total  | 695.00us (695.00us) 700.25us (700.25us)         1\n",
      "This is Ipopt version 3.14.11, running with linear solver MUMPS 5.4.1.\n",
      "\n",
      "Number of nonzeros in equality constraint Jacobian...:        0\n",
      "Number of nonzeros in inequality constraint Jacobian.:        0\n",
      "Number of nonzeros in Lagrangian Hessian.............:       21\n",
      "\n",
      "Total number of variables............................:        6\n",
      "                     variables with only lower bounds:        0\n",
      "                variables with lower and upper bounds:        0\n",
      "                     variables with only upper bounds:        0\n",
      "Total number of equality constraints.................:        0\n",
      "Total number of inequality constraints...............:        0\n",
      "        inequality constraints with only lower bounds:        0\n",
      "   inequality constraints with lower and upper bounds:        0\n",
      "        inequality constraints with only upper bounds:        0\n",
      "\n",
      "iter    objective    inf_pr   inf_du lg(mu)  ||d||  lg(rg) alpha_du alpha_pr  ls\n",
      "   0  8.0379082e+03 0.00e+00 1.00e+02   0.0 0.00e+00    -  0.00e+00 0.00e+00   0\n",
      "   1  7.1749407e-04 0.00e+00 4.63e-13 -11.0 1.01e+00    -  1.00e+00 1.00e+00f  1\n",
      "\n",
      "Number of Iterations....: 1\n",
      "\n",
      "                                   (scaled)                 (unscaled)\n",
      "Objective...............:   4.7521425677084581e-06    7.1749406781865070e-04\n",
      "Dual infeasibility......:   4.6290531238482329e-13    6.9890961995697902e-11\n",
      "Constraint violation....:   0.0000000000000000e+00    0.0000000000000000e+00\n",
      "Variable bound violation:   0.0000000000000000e+00    0.0000000000000000e+00\n",
      "Complementarity.........:   0.0000000000000000e+00    0.0000000000000000e+00\n",
      "Overall NLP error.......:   4.6290531238482329e-13    6.9890961995697902e-11\n",
      "\n",
      "\n",
      "Number of objective function evaluations             = 2\n",
      "Number of objective gradient evaluations             = 2\n",
      "Number of equality constraint evaluations            = 0\n",
      "Number of inequality constraint evaluations          = 0\n",
      "Number of equality constraint Jacobian evaluations   = 0\n",
      "Number of inequality constraint Jacobian evaluations = 0\n",
      "Number of Lagrangian Hessian evaluations             = 1\n",
      "Total seconds in IPOPT                               = 0.000\n",
      "\n",
      "EXIT: Optimal Solution Found.\n",
      "      solver  :   t_proc      (avg)   t_wall      (avg)    n_eval\n",
      "       nlp_f  |  26.00us ( 13.00us)  25.88us ( 12.94us)         2\n",
      "  nlp_grad_f  |  58.00us ( 19.33us)  59.50us ( 19.83us)         3\n",
      "  nlp_hess_l  |  49.00us ( 49.00us)  48.75us ( 48.75us)         1\n",
      "       total  | 726.00us (726.00us) 724.75us (724.75us)         1\n"
     ]
    }
   ],
   "source": [
    "# set up wing aeromodel\n",
    "AeroModel.LiftCoeffFunc = liftCoeff\n",
    "AeroModel.DragCoeffFunc = dragCoeff\n",
    "AeroModel.MomentCoeffFunc = pitchingCoeff"
   ],
   "metadata": {
    "collapsed": false,
    "ExecuteTime": {
     "end_time": "2025-06-16T20:00:19.549927Z",
     "start_time": "2025-06-16T20:00:19.129999Z"
    }
   },
   "id": "6677ff2cbd956d3e"
  },
  {
   "cell_type": "code",
   "execution_count": 4,
   "outputs": [],
   "source": [
    "# set up the optimization problem and parameters\n",
    "\n",
    "opti = asb.Opti()\n",
    "\n",
    "# variable time\n",
    "N = 100\n",
    "# time = np.linspace(0,50,N)\n",
    "\n",
    "time = np.linspace(\n",
    "    0,\n",
    "    40,\n",
    "    N\n",
    ")\n",
    "dyn = Aircraft2DPointMass(\n",
    "    mass = 9.54, # kg\n",
    "    Iyy = 2.5, # kg-m^2\n",
    "    x_e = opti.variable(init_guess=1*np.linspace(1,100,N),upper_bound=1e4,lower_bound=-1),\n",
    "    z_e = opti.variable(init_guess=1*np.linspace(1,100,N),upper_bound=1e4,lower_bound=-1e4),\n",
    "    w_b = opti.variable(init_guess=0*np.linspace(1,30,N),upper_bound=30,lower_bound=-30),\n",
    "    u_b = opti.variable(init_guess=1*np.linspace(1,30,N),upper_bound=50,lower_bound=0),\n",
    "    pitch = opti.variable(init_guess=0*np.linspace(1,100,N),upper_bound=360*2,lower_bound=-180),\n",
    "    # delta_f=  opti.variable(init_guess=0*np.linspace(1,100,N),upper_bound=45,lower_bound=0),\n",
    "    delta_f = 0 * np.ones(N,),\n",
    "    delta_ht = opti.variable(init_guess=0*np.linspace(1,100,N),upper_bound=30,lower_bound=-30),\n",
    "    delta_T = opti.variable(init_guess=0*np.linspace(1,100,N),upper_bound=1,lower_bound=0),\n",
    ")\n",
    "\n",
    "dyn.WindModel.setParameters(\"gaussian1D\",**{\"center\":300,\"std\":10,\"MaxGustVelocity\":0,\"axis\":\"z\"})\n",
    "\n"
   ],
   "metadata": {
    "collapsed": false,
    "ExecuteTime": {
     "end_time": "2025-06-16T20:00:19.567260Z",
     "start_time": "2025-06-16T20:00:19.557313Z"
    }
   },
   "id": "bf8d13d8954c6aee"
  },
  {
   "cell_type": "code",
   "execution_count": 5,
   "outputs": [],
   "source": [
    "# use aero model to constraint the dynamics problem\n",
    "\n",
    "dyn.setDynamics(aeromodel)\n",
    "dyn.add_force(1,2,3,'wind')\n",
    "dyn.add_moment(1,'wind')"
   ],
   "metadata": {
    "collapsed": false,
    "ExecuteTime": {
     "end_time": "2025-06-16T20:00:19.588184Z",
     "start_time": "2025-06-16T20:00:19.569423Z"
    }
   },
   "id": "7a6c46e5c01762a8"
  },
  {
   "cell_type": "code",
   "execution_count": 7,
   "outputs": [
    {
     "data": {
      "text/plain": "[MX(fabs(opti3_lam_g_20)),\n MX(fabs(opti3_lam_g_21)),\n MX(fabs(opti3_lam_g_22)),\n MX(fabs(opti3_lam_g_23)),\n MX(fabs(opti3_lam_g_24)),\n MX(fabs(opti3_lam_g_25)),\n MX(fabs(opti3_lam_g_26)),\n MX(fabs(opti3_lam_g_27))]"
     },
     "execution_count": 7,
     "metadata": {},
     "output_type": "execute_result"
    }
   ],
   "source": [
    "# general constraints for physical motion / other physical limits\n",
    "\n",
    "\n",
    "# general forward motion and boundary limits\n",
    "opti.subject_to([\n",
    "    dyn.u > 0,\n",
    "    dyn.z_e >= 0,\n",
    "    dyn.x_e >=0,\n",
    "])\n",
    "\n",
    "\n",
    "\n",
    "# physical limits\n",
    "opti.subject_to([\n",
    "    dyn.alpha >=-12,\n",
    "    dyn.alpha <= 15,\n",
    "])\n",
    "\n",
    "# rate limits\n",
    "throttle_rate = np.diff(dyn.delta_T) / np.diff(time)\n",
    "flap_rate = np.diff(dyn.delta_f) / np.diff(time)\n",
    "tail_rate = np.diff(dyn.delta_ht) / np.diff(time)\n",
    "pitch_rate = np.diff(dyn.pitch,2) / np.diff(time,1)\n",
    "\n",
    "opti.subject_to([\n",
    "    dyn.delta_T >= 0,\n",
    "    dyn.delta_T <= 1,\n",
    "    throttle_rate >=-.2,\n",
    "    throttle_rate <= .2,\n",
    "    tail_rate >= -5,\n",
    "    tail_rate <= 5,\n",
    "    pitch_rate >=-30,\n",
    "    pitch_rate <= 30,\n",
    "])\n",
    "\n",
    "\n",
    "\n",
    "\n"
   ],
   "metadata": {
    "collapsed": false,
    "ExecuteTime": {
     "end_time": "2025-06-16T20:00:19.650845Z",
     "start_time": "2025-06-16T20:00:19.635346Z"
    }
   },
   "id": "91d1af74e5bf6d77"
  },
  {
   "cell_type": "code",
   "execution_count": 8,
   "outputs": [],
   "source": [
    "\n",
    "# start constraints\n",
    "opti.subject_to([\n",
    "    dyn.x_e[0] == 0,  # starting position arbitrarily 0\n",
    "    dyn.z_e[0] == 500,  # starting altitude of 2km (~180 ft)\n",
    "    pitch_rate[0] == 0,  # no pitching rate ye\n",
    "])\n",
    "\n",
    "# end constraints\n",
    "opti.subject_to([\n",
    "    dyn.x_e[-1] <=5e4,  # arbitrary x limit\n",
    "])\n",
    "\n",
    "# cost function work\n",
    "\n",
    "\n",
    "# push all constraints to the problem\n"
   ],
   "metadata": {
    "collapsed": false,
    "ExecuteTime": {
     "end_time": "2025-06-16T20:00:19.683941Z",
     "start_time": "2025-06-16T20:00:19.649001Z"
    }
   },
   "id": "eae401b1c87b7734"
  },
  {
   "cell_type": "code",
   "execution_count": null,
   "outputs": [],
   "source": [
    "# set cost function\n",
    "opti.minimize(np.sum(dyn.glide_slope**2)/10**2 + np.sum(np.diff(dyn.delta_T)**2))"
   ],
   "metadata": {
    "collapsed": false
   },
   "id": "6cf8e6269724b7b7"
  },
  {
   "cell_type": "code",
   "execution_count": 9,
   "outputs": [
    {
     "name": "stdout",
     "output_type": "stream",
     "text": [
      "This is Ipopt version 3.14.11, running with linear solver MUMPS 5.4.1.\n",
      "\n",
      "Number of nonzeros in equality constraint Jacobian...:     9660\n",
      "Number of nonzeros in inequality constraint Jacobian.:     3489\n",
      "Number of nonzeros in Lagrangian Hessian.............:     1799\n",
      "\n",
      "Total number of variables............................:      700\n",
      "                     variables with only lower bounds:        0\n",
      "                variables with lower and upper bounds:        0\n",
      "                     variables with only upper bounds:        0\n",
      "Total number of equality constraints.................:      498\n",
      "Total number of inequality constraints...............:     2695\n",
      "        inequality constraints with only lower bounds:     1497\n",
      "   inequality constraints with lower and upper bounds:        0\n",
      "        inequality constraints with only upper bounds:     1198\n",
      "\n",
      "iter    objective    inf_pr   inf_du lg(mu)  ||d||  lg(rg) alpha_du alpha_pr  ls\n",
      "   0  0.0000000e+00 4.99e+02 1.11e+00   0.0 0.00e+00    -  0.00e+00 0.00e+00   0\n",
      "Warning: Cutting back alpha due to evaluation error\n",
      "   1  2.7519193e-03 4.99e+02 5.73e+04   2.8 4.99e+02   2.0 1.00e+00 5.01e-04f  2\n",
      "   2  1.3903534e+03 4.74e+02 8.55e+04   4.4 7.31e+03    -  1.44e-02 4.90e-02f  1\n",
      "   3  1.3479610e+03 4.63e+02 8.55e+04   3.0 4.74e+02   1.5 5.46e-02 2.29e-02h  1\n",
      "   4  1.3199235e+03 4.55e+02 8.41e+04   2.3 4.63e+02   1.0 4.25e-02 1.84e-02h  1\n",
      "   5  1.2800592e+03 4.42e+02 8.38e+04   2.3 4.55e+02   1.5 2.80e-02 2.88e-02h  1\n",
      "   6  1.2575395e+03 4.35e+02 8.89e+04   2.3 4.42e+02   1.9 2.72e-02 1.51e-02h  1\n",
      "   7  1.2616627e+03 4.33e+02 8.69e+04   2.3 4.00e+03   1.4 2.69e-04 4.68e-03f  1\n",
      "   8  1.2288716e+03 4.20e+02 9.90e+04   2.3 4.33e+02   1.8 6.21e-03 3.08e-02h  1\n",
      "   9  1.2253625e+03 4.17e+02 9.88e+04   2.3 4.20e+02   1.4 5.71e-03 5.82e-03h  1\n",
      "iter    objective    inf_pr   inf_du lg(mu)  ||d||  lg(rg) alpha_du alpha_pr  ls\n",
      "  10  1.2134340e+03 4.07e+02 1.05e+05   2.3 4.17e+02   1.8 9.75e-04 2.49e-02h  1\n",
      "  11  1.2117830e+03 4.05e+02 1.07e+05   2.3 4.07e+02   2.2 9.21e-03 5.38e-03h  1\n",
      "  12  1.2126740e+03 4.04e+02 1.07e+05   2.3 4.05e+02   1.7 9.01e-03 2.99e-03h  1\n",
      "  13  1.2082949e+03 3.95e+02 1.31e+05   2.3 4.04e+02   2.2 9.90e-03 2.16e-02h  1\n",
      "  14  1.2081881e+03 3.93e+02 1.36e+05   2.3 3.95e+02   2.6 6.93e-03 4.24e-03h  1\n",
      "  15  1.2126969e+03 3.91e+02 1.48e+05   2.3 3.93e+02   2.1 3.87e-03 6.28e-03h  1\n",
      "  16  1.2165185e+03 3.87e+02 2.06e+05   2.3 3.91e+02   2.5 1.07e-04 1.04e-02h  1\n"
     ]
    },
    {
     "name": "stderr",
     "output_type": "stream",
     "text": [
      "CasADi - 2025-06-16 16:00:19 WARNING(\"solver:nlp_g failed: NaN detected for output g, at (row 2896, col 0).\") [.../casadi/core/oracle_function.cpp:393]\n"
     ]
    },
    {
     "name": "stdout",
     "output_type": "stream",
     "text": [
      "  17  1.2179203e+03 3.85e+02 2.09e+05   2.3 3.87e+02   3.0 1.24e-02 3.88e-03h  1\n",
      "  18  1.2193261e+03 3.84e+02 2.09e+05   2.3 3.85e+02   2.5 1.03e-04 1.78e-03h  1\n",
      "  19  1.2237089e+03 3.82e+02 1.97e+05   2.3 3.84e+02   2.9 1.75e-04 6.57e-03h  1\n",
      "iter    objective    inf_pr   inf_du lg(mu)  ||d||  lg(rg) alpha_du alpha_pr  ls\n",
      "  20  1.2237483e+03 3.82e+02 6.09e+05   1.6 3.82e+02   3.3 2.17e-02 8.17e-05h  1\n",
      "  21  1.2244476e+03 3.81e+02 9.66e+05   1.6 3.82e+02   2.9 1.68e-02 1.07e-03h  1\n",
      "  22  1.2520604e+03 3.77e+02 8.94e+05   1.6 3.81e+02   2.4 2.57e-03 1.25e-02h  1\n",
      "  23  1.2529847e+03 3.76e+02 8.81e+05   1.6 4.06e+02   2.8 2.06e-05 8.32e-04h  1\n",
      "  24  1.2532645e+03 3.76e+02 1.39e+06   1.6 4.56e+02   3.2 1.39e-02 3.82e-04h  1\n",
      "  25  1.2565215e+03 3.75e+02 1.39e+06   1.6 5.09e+02   2.8 2.66e-03 2.68e-03h  1\n",
      "  26  1.2635208e+03 3.74e+02 1.46e+06   1.6 3.75e+02   2.3 8.55e-03 3.19e-03h  1\n",
      "  27  1.2808744e+03 3.69e+02 1.40e+06   1.6 3.74e+02   2.7 1.19e-02 1.43e-02h  1\n",
      "  28  1.2931030e+03 3.69e+02 1.34e+06   1.6 1.85e+03   2.2 1.72e-03 4.55e-04h  1\n",
      "  29  1.2947291e+03 3.68e+02 1.58e+06   1.6 3.69e+02   2.7 8.87e-03 1.56e-03h  1\n",
      "iter    objective    inf_pr   inf_du lg(mu)  ||d||  lg(rg) alpha_du alpha_pr  ls\n",
      "  30  1.3378905e+03 3.64e+02 1.43e+06   1.6 4.50e+02   2.2 4.27e-03 1.02e-02h  1\n",
      "  31  1.3382849e+03 3.64e+02 1.64e+06   1.6 3.64e+02   2.6 7.28e-03 3.09e-04h  1\n",
      "  32  1.3526795e+03 3.61e+02 1.52e+06   1.6 4.44e+02   2.1 2.34e-03 7.22e-03h  1\n",
      "  33  1.3668917e+03 3.58e+02 1.36e+06   1.6 3.61e+02   2.6 1.93e-03 8.42e-03h  1\n",
      "  34  1.3765536e+03 3.56e+02 1.45e+06   1.6 3.58e+02   3.0 8.89e-03 6.07e-03h  1\n",
      "  35  1.3860590e+03 3.55e+02 1.42e+06   1.6 3.56e+02   2.5 1.14e-02 2.64e-03h  1\n",
      "  36  1.3858463e+03 3.55e+02 1.48e+06   1.6 3.55e+02   2.0 4.98e-03 1.47e-03h  1\n",
      "  37  1.3949694e+03 3.53e+02 1.40e+06   1.6 3.55e+02   2.5 2.66e-03 5.98e-03h  1\n",
      "  38  1.4033365e+03 3.50e+02 1.74e+06   1.6 3.53e+02   2.9 1.61e-02 6.27e-03h  1\n",
      "  39  1.4004146e+03 3.49e+02 1.85e+06   1.6 3.50e+02   2.4 1.85e-05 4.09e-03h  1\n",
      "iter    objective    inf_pr   inf_du lg(mu)  ||d||  lg(rg) alpha_du alpha_pr  ls\n",
      "  40  1.4176628e+03 3.46e+02 1.66e+06   1.6 3.49e+02   2.8 9.04e-04 8.85e-03h  1\n",
      "  41  1.4182807e+03 3.46e+02 1.38e+06   1.6 1.65e+03   2.4 2.19e-03 2.25e-05h  1\n",
      "  42  1.4282282e+03 3.45e+02 1.40e+06   1.6 3.46e+02   2.8 1.27e-02 3.75e-03h  1\n",
      "  43  1.4303217e+03 3.45e+02 1.20e+06   1.6 9.49e+02   2.3 2.86e-03 1.23e-04h  1\n",
      "  44  1.4334693e+03 3.44e+02 1.38e+06   1.6 3.45e+02   2.7 2.62e-02 1.57e-03h  1\n",
      "  45  1.4467996e+03 3.39e+02 1.53e+06   1.6 3.44e+02   2.3 1.31e-03 1.56e-02h  1\n",
      "  46  1.4430323e+03 3.37e+02 1.74e+06   1.6 3.39e+02   2.7 6.11e-04 3.97e-03h  1\n",
      "  47  1.4530276e+03 3.36e+02 1.77e+06   1.6 4.31e+02   2.2 3.33e-05 2.57e-03h  1\n",
      "  48  1.4543604e+03 3.36e+02 1.83e+06   1.6 3.36e+02   2.6 7.60e-03 5.87e-04h  1\n",
      "  49  1.4740017e+03 3.36e+02 1.77e+06   1.6 6.04e+03   2.2 7.44e-04 2.32e-04h  1\n",
      "iter    objective    inf_pr   inf_du lg(mu)  ||d||  lg(rg) alpha_du alpha_pr  ls\n",
      "  50  1.4870878e+03 3.34e+02 1.76e+06   1.6 3.36e+02   2.6 6.82e-03 5.22e-03h  1\n",
      "  51  1.4951236e+03 3.34e+02 1.75e+06   1.6 4.50e+02   2.1 3.67e-03 2.46e-03h  1\n",
      "  52  1.5025413e+03 3.32e+02 2.09e+06   1.6 3.34e+02   2.5 4.43e-02 5.85e-03h  1\n",
      "  53  1.4748422e+03 3.24e+02 2.11e+06   1.6 3.32e+02   2.1 3.79e-03 2.37e-02h  1\n",
      "  54  1.4773952e+03 3.23e+02 2.10e+06   1.6 3.24e+02   2.5 1.33e-04 1.67e-03h  1\n",
      "  55  1.4882703e+03 3.21e+02 2.20e+06   1.6 3.23e+02   2.9 1.12e-02 8.11e-03h  1\n",
      "  56  1.4901552e+03 3.20e+02 2.18e+06   1.6 4.36e+02   2.4 3.40e-03 4.22e-04h  1\n",
      "  57  1.5084655e+03 3.18e+02 2.29e+06   1.6 3.20e+02   2.9 1.96e-02 9.25e-03h  1\n",
      "  58  1.5111641e+03 3.17e+02 2.55e+06   1.6 3.78e+02   2.4 1.64e-02 2.35e-03h  1\n",
      "  59  1.5274089e+03 3.13e+02 2.21e+06   1.6 3.17e+02   2.8 1.20e-03 1.17e-02h  1\n",
      "iter    objective    inf_pr   inf_du lg(mu)  ||d||  lg(rg) alpha_du alpha_pr  ls\n",
      "  60  1.5228677e+03 3.12e+02 1.98e+06   1.6 3.13e+02   2.3 1.58e-02 4.83e-03h  1\n",
      "  61  1.5202958e+03 3.09e+02 2.43e+06   1.6 3.12e+02   2.7 6.46e-05 7.42e-03h  1\n",
      "  62  1.5234672e+03 3.09e+02 2.40e+06   1.6 3.09e+02   3.2 1.15e-03 1.89e-03h  1\n",
      "  63  1.5246829e+03 3.08e+02 2.45e+06   1.6 3.27e+02   2.7 9.30e-03 5.61e-04h  1\n",
      "  64  1.5284514e+03 3.08e+02 2.54e+06   1.6 3.08e+02   3.1 5.10e-03 2.26e-03h  1\n",
      "  65  1.5697875e+03 3.04e+02 2.57e+06   1.6 3.27e+02   2.6 3.37e-03 1.20e-02f  1\n",
      "  66  1.5703512e+03 3.04e+02 2.95e+06   1.6 3.04e+02   3.1 1.41e-02 3.13e-04h  1\n",
      "  67  1.5862227e+03 3.02e+02 2.90e+06   1.6 3.04e+02   2.6 4.26e-03 7.94e-03h  1\n",
      "  68  1.5770810e+03 2.98e+02 2.75e+06   1.6 4.81e+02   2.1 2.60e-02 1.09e-02h  1\n",
      "  69  1.5721033e+03 2.96e+02 2.77e+06   1.6 2.98e+02   2.5 7.29e-03 8.76e-03h  1\n",
      "iter    objective    inf_pr   inf_du lg(mu)  ||d||  lg(rg) alpha_du alpha_pr  ls\n",
      "  70  1.5811152e+03 2.93e+02 3.01e+06   1.6 2.96e+02   3.0 8.35e-05 8.21e-03f  1\n",
      "  71  1.5957114e+03 2.92e+02 3.02e+06   1.6 3.59e+02   2.5 1.16e-03 2.75e-03h  1\n",
      "  72  1.5959760e+03 2.92e+02 3.13e+06   1.6 2.92e+02   2.9 1.12e-02 1.24e-04h  1\n",
      "  73  1.6113335e+03 2.91e+02 3.11e+06   1.6 2.92e+02   2.4 4.97e-03 3.43e-03h  1\n",
      "  74  1.6117370e+03 2.91e+02 3.10e+06   1.6 2.91e+02   2.9 3.51e-05 4.42e-04h  1\n",
      "  75  1.6118776e+03 2.91e+02 3.13e+06   1.6 2.91e+02   2.4 4.21e-03 1.08e-03h  1\n",
      "  76  1.6303754e+03 2.86e+02 2.78e+06   1.6 2.91e+02   2.8 1.76e-03 1.66e-02h  1\n",
      "  77  1.6416366e+03 2.86e+02 2.84e+06   1.6 1.77e+03   2.3 3.14e-04 1.19e-03h  1\n",
      "  78  1.6414502e+03 2.86e+02 2.33e+06   1.6 2.86e+02   2.8 9.68e-03 5.13e-04h  1\n",
      "  79  1.6392830e+03 2.85e+02 2.33e+06   1.6 1.08e+03   2.3 1.91e-04 2.20e-03f  1\n",
      "iter    objective    inf_pr   inf_du lg(mu)  ||d||  lg(rg) alpha_du alpha_pr  ls\n",
      "  80  1.6398483e+03 2.85e+02 2.33e+06   1.6 2.85e+02   2.7 1.27e-04 2.39e-04h  1\n",
      "  81  1.6400588e+03 2.85e+02 2.33e+06   1.6 2.85e+02   3.1 1.04e-02 1.17e-04h  1\n",
      "  82  1.6633439e+03 2.82e+02 2.31e+06   1.6 2.85e+02   2.7 4.33e-04 8.62e-03f  1\n",
      "  83  1.6646647e+03 2.82e+02 2.35e+06   1.6 2.82e+02   3.1 7.00e-03 7.13e-04h  1\n",
      "  84  1.7053072e+03 2.79e+02 2.30e+06   1.6 2.82e+02   2.6 3.22e-03 1.31e-02h  1\n",
      "  85  1.7055793e+03 2.78e+02 2.27e+06   1.6 2.79e+02   3.0 4.33e-03 2.94e-04h  1\n",
      "  86  1.7017740e+03 2.77e+02 2.38e+06   1.6 2.78e+02   2.6 8.48e-05 6.25e-03h  1\n",
      "  87  1.7001228e+03 2.74e+02 3.95e+06   1.6 2.77e+02   3.0 2.22e-04 1.16e-02f  1\n",
      "  88  1.6999312e+03 2.73e+02 3.24e+06   1.6 2.74e+02   2.5 1.24e-02 2.94e-04h  1\n",
      "  89  1.7015099e+03 2.72e+02 3.66e+06   1.6 2.73e+02   2.9 7.20e-05 4.49e-03h  1\n",
      "iter    objective    inf_pr   inf_du lg(mu)  ||d||  lg(rg) alpha_du alpha_pr  ls\n",
      "  90  1.7527258e+03 2.69e+02 3.64e+06   1.6 4.01e+02   2.5 9.94e-04 1.11e-02h  1\n",
      "  91  1.7533529e+03 2.69e+02 3.64e+06   1.6 2.69e+02   2.9 4.28e-03 3.39e-04h  1\n",
      "  92r 1.7533529e+03 2.69e+02 1.00e+03   2.4 0.00e+00   2.4 0.00e+00 4.52e-07R  5\n",
      "  93r 1.8705120e+03 2.67e+02 1.08e+03   2.1 1.81e+04    -  1.06e-02 3.97e-03f  1\n",
      "  94r 1.9615964e+03 2.60e+02 1.15e+03   0.4 3.45e+03    -  3.68e-02 9.10e-03f  1\n",
      "  95r 2.1664072e+03 2.06e+02 1.08e+03   1.3 1.25e+03    -  9.94e-02 4.35e-02f  1\n",
      "  96  2.1608290e+03 2.05e+02 3.86e+01   0.1 3.23e+02    -  9.18e-02 4.64e-03f  1\n",
      "  97  2.0593059e+03 1.91e+02 3.66e+01   0.7 3.05e+02    -  7.51e-02 6.62e-02f  1\n",
      "  98  1.6804345e+03 1.38e+02 2.16e+01   0.6 2.04e+02    -  1.49e-01 2.77e-01f  1\n",
      "  99  9.5960395e+02 4.58e+01 2.44e+01   0.4 1.49e+02    -  4.06e-01 6.69e-01f  1\n",
      "iter    objective    inf_pr   inf_du lg(mu)  ||d||  lg(rg) alpha_du alpha_pr  ls\n",
      " 100  4.2604028e+02 3.62e+01 3.60e+01   0.1 7.57e+01    -  4.71e-01 9.90e-01f  1\n",
      " 101  9.5790754e+01 8.82e+01 1.41e+03   0.9 1.92e+02    -  6.74e-01 4.69e-01f  1\n",
      " 102  3.8400745e+01 5.18e+01 5.13e+02   0.6 9.39e+01    -  9.14e-01 9.90e-01f  1\n",
      " 103  5.7203891e+00 1.47e+01 6.67e+02   0.1 1.75e+01    -  9.88e-01 9.92e-01f  1\n",
      " 104  1.3416725e-01 7.97e-01 4.01e-01  -1.1 2.09e+01    -  1.00e+00 1.00e+00h  1\n",
      " 105  2.6980798e-03 5.74e-03 3.18e+03  -2.4 2.64e+00    -  9.97e-01 1.00e+00h  1\n",
      " 106  9.8466047e-04 7.56e-02 8.52e-04  -3.4 1.50e+00    -  1.00e+00 1.00e+00h  1\n",
      " 107  2.4906041e-04 5.19e-01 3.35e+02  -4.4 2.07e+00    -  9.84e-01 1.00e+00h  1\n",
      " 108  2.1281330e-05 1.15e+00 2.72e-04  -5.2 4.63e+00    -  1.00e+00 1.00e+00h  1\n",
      " 109  3.7607007e-07 1.83e-01 3.44e-05  -6.4 2.15e+00    -  1.00e+00 1.00e+00h  1\n",
      "iter    objective    inf_pr   inf_du lg(mu)  ||d||  lg(rg) alpha_du alpha_pr  ls\n",
      " 110  8.5164548e-07 2.74e-01 1.56e+08  -5.8 1.24e+01    -  4.75e-04 1.00e+00h  1\n",
      " 111  3.8589360e-09 7.98e-03 2.80e-06  -6.5 4.26e-01    -  1.00e+00 1.00e+00h  1\n",
      " 112  7.5140770e-14 3.74e-05 9.41e-02 -11.0 4.03e-02    -  9.97e-01 1.00e+00h  1\n",
      " 113  1.7296356e-17 4.79e-06 1.47e-09 -10.8 1.33e-02    -  1.00e+00 1.00e+00h  1\n",
      " 114  2.8377658e-16 1.43e-13 2.17e-05 -11.0 2.55e-07   1.9 1.00e+00 1.00e+00h  1\n",
      " 115  2.8180470e-16 1.58e-13 3.56e-09 -11.0 1.25e-10   1.5 1.00e+00 1.00e+00h  1\n",
      "\n",
      "Number of Iterations....: 115\n",
      "\n",
      "                                   (scaled)                 (unscaled)\n",
      "Objective...............:   2.8180470262589091e-16    2.8180470262589091e-16\n",
      "Dual infeasibility......:   3.5604738847268352e-09    3.5604738847268352e-09\n",
      "Constraint violation....:   1.5809575870662229e-13    1.5809575870662229e-13\n",
      "Variable bound violation:   0.0000000000000000e+00    0.0000000000000000e+00\n",
      "Complementarity.........:   1.0000000000000004e-11    1.0000000000000004e-11\n",
      "Overall NLP error.......:   3.5604738847268352e-09    3.5604738847268352e-09\n",
      "\n",
      "\n",
      "Number of objective function evaluations             = 121\n",
      "Number of objective gradient evaluations             = 114\n",
      "Number of equality constraint evaluations            = 122\n",
      "Number of inequality constraint evaluations          = 121\n",
      "Number of equality constraint Jacobian evaluations   = 117\n",
      "Number of inequality constraint Jacobian evaluations = 117\n",
      "Number of Lagrangian Hessian evaluations             = 115\n",
      "Total seconds in IPOPT                               = 1.570\n",
      "\n",
      "EXIT: Optimal Solution Found.\n",
      "      solver  :   t_proc      (avg)   t_wall      (avg)    n_eval\n",
      "       nlp_f  | 746.00us (  6.17us) 726.12us (  6.00us)       121\n",
      "       nlp_g  |  31.62ms (259.19us)  31.21ms (255.79us)       122\n",
      "  nlp_grad_f  |   1.42ms ( 12.37us)   1.28ms ( 11.17us)       115\n",
      "  nlp_hess_l  | 193.04ms (  1.69ms) 194.52ms (  1.71ms)       114\n",
      "   nlp_jac_g  | 140.86ms (  1.19ms) 142.11ms (  1.20ms)       118\n",
      "       total  |   1.56 s (  1.56 s)   1.57 s (  1.57 s)         1\n"
     ]
    }
   ],
   "source": [
    "# constrain derivatives and solve\n",
    "dyn.constrain_derivatives(opti,time,method=\"cubic\")\n",
    "sol = opti.solve(max_iter=1000,behavior_on_failure=\"return_last\")\n",
    "dyn = sol(dyn)\n",
    "time = sol(time)\n",
    "    \n"
   ],
   "metadata": {
    "collapsed": false,
    "ExecuteTime": {
     "end_time": "2025-06-16T20:00:21.348886Z",
     "start_time": "2025-06-16T20:00:19.785372Z"
    }
   },
   "id": "8e9b89aea627c0e7"
  },
  {
   "cell_type": "code",
   "execution_count": 10,
   "outputs": [
    {
     "data": {
      "text/plain": "<Figure size 600x1000 with 5 Axes>",
      "image/png": "[encoded data removed]"
     },
     "metadata": {},
     "output_type": "display_data"
    },
    {
     "data": {
      "text/plain": "<Figure size 600x300 with 1 Axes>",
      "image/png": "[encoded data removed]"
     },
     "metadata": {},
     "output_type": "display_data"
    },
    {
     "data": {
      "text/plain": "<Figure size 600x300 with 1 Axes>",
      "image/png": "[encoded data removed]"
     },
     "metadata": {},
     "output_type": "display_data"
    }
   ],
   "source": [
    "from dynamics.rigid_body_dynamics.visualization import visualizeRun2D\n",
    "fig_dict = visualizeRun2D(time,dyn)"
   ],
   "metadata": {
    "collapsed": false,
    "ExecuteTime": {
     "end_time": "2025-06-16T20:00:23.221927Z",
     "start_time": "2025-06-16T20:00:21.347778Z"
    }
   },
   "id": "75e23ddc1d160d8f"
  },
  {
   "cell_type": "code",
   "execution_count": 10,
   "outputs": [],
   "source": [
    "\n"
   ],
   "metadata": {
    "collapsed": false,
    "ExecuteTime": {
     "end_time": "2025-06-16T20:00:23.222084Z",
     "start_time": "2025-06-16T20:00:23.197288Z"
    }
   },
   "id": "3881451f088b420b"
  },
  {
   "cell_type": "code",
   "execution_count": 46,
   "outputs": [
    {
     "name": "stdout",
     "output_type": "stream",
     "text": [
      "Saving <dynamics.rigid_body_dynamics.Aircraft2D.Aircraft2DPointMass object at 0x11ce80f20> to:\n",
      "\t/Users/trevorlong/Documents/MIT/PhD/aircraft-dynamics/studies/temp/dyn_cruise_15ms_gust.asb...\n"
     ]
    },
    {
     "ename": "FileNotFoundError",
     "evalue": "[Errno 2] No such file or directory: '/Users/trevorlong/Documents/MIT/PhD/aircraft-dynamics/studies/temp/dyn_cruise_15ms_gust.asb'",
     "output_type": "error",
     "traceback": [
      "\u001B[31m---------------------------------------------------------------------------\u001B[39m",
      "\u001B[31mFileNotFoundError\u001B[39m                         Traceback (most recent call last)",
      "\u001B[36mCell\u001B[39m\u001B[36m \u001B[39m\u001B[32mIn[46]\u001B[39m\u001B[32m, line 5\u001B[39m\n\u001B[32m      3\u001B[39m cwd = plb.Path.cwd()\n\u001B[32m      4\u001B[39m dyn_savepath = plb.Path(\u001B[33mf\u001B[39m\u001B[33m\"\u001B[39m\u001B[38;5;132;01m{\u001B[39;00mcwd\u001B[38;5;132;01m}\u001B[39;00m\u001B[33m/temp/dyn_\u001B[39m\u001B[38;5;132;01m{\u001B[39;00mrun_name\u001B[38;5;132;01m}\u001B[39;00m\u001B[33m\"\u001B[39m) \n\u001B[32m----> \u001B[39m\u001B[32m5\u001B[39m \u001B[43mdyn\u001B[49m\u001B[43m.\u001B[49m\u001B[43msave\u001B[49m\u001B[43m(\u001B[49m\u001B[43mdyn_savepath\u001B[49m\u001B[43m,\u001B[49m\u001B[43mverbose\u001B[49m\u001B[43m=\u001B[49m\u001B[38;5;28;43;01mTrue\u001B[39;49;00m\u001B[43m)\u001B[49m\n",
      "\u001B[36mFile \u001B[39m\u001B[32m~/.pyenv/versions/3.12.7/lib/python3.12/site-packages/aerosandbox/common.py:111\u001B[39m, in \u001B[36mAeroSandboxObject.save\u001B[39m\u001B[34m(self, filename, verbose, automatically_add_extension)\u001B[39m\n\u001B[32m     99\u001B[39m \u001B[38;5;28;01mimport\u001B[39;00m\u001B[38;5;250m \u001B[39m\u001B[34;01maerosandbox\u001B[39;00m\u001B[38;5;250m \u001B[39m\u001B[38;5;28;01mas\u001B[39;00m\u001B[38;5;250m \u001B[39m\u001B[34;01masb\u001B[39;00m\n\u001B[32m    101\u001B[39m \u001B[38;5;28mself\u001B[39m._asb_metadata = {\n\u001B[32m    102\u001B[39m     \u001B[33m\"\u001B[39m\u001B[33mpython_version\u001B[39m\u001B[33m\"\u001B[39m: \u001B[33m\"\u001B[39m\u001B[33m.\u001B[39m\u001B[33m\"\u001B[39m.join(\n\u001B[32m    103\u001B[39m         [\n\u001B[32m   (...)\u001B[39m\u001B[32m    109\u001B[39m     \u001B[33m\"\u001B[39m\u001B[33masb_version\u001B[39m\u001B[33m\"\u001B[39m: asb.__version__,\n\u001B[32m    110\u001B[39m }\n\u001B[32m--> \u001B[39m\u001B[32m111\u001B[39m \u001B[38;5;28;01mwith\u001B[39;00m \u001B[38;5;28;43mopen\u001B[39;49m\u001B[43m(\u001B[49m\u001B[43mfilename\u001B[49m\u001B[43m,\u001B[49m\u001B[43m \u001B[49m\u001B[33;43m\"\u001B[39;49m\u001B[33;43mwb\u001B[39;49m\u001B[33;43m\"\u001B[39;49m\u001B[43m)\u001B[49m \u001B[38;5;28;01mas\u001B[39;00m f:\n\u001B[32m    112\u001B[39m     dill.dump(\n\u001B[32m    113\u001B[39m         obj=\u001B[38;5;28mself\u001B[39m,\n\u001B[32m    114\u001B[39m         file=f,\n\u001B[32m    115\u001B[39m     )\n",
      "\u001B[31mFileNotFoundError\u001B[39m: [Errno 2] No such file or directory: '/Users/trevorlong/Documents/MIT/PhD/aircraft-dynamics/studies/temp/dyn_cruise_15ms_gust.asb'"
     ]
    }
   ],
   "source": [
    "run_name = \"cruise_15ms_gust\"\n",
    "import pathlib as plb\n",
    "cwd = plb.Path.cwd()\n",
    "dyn_savepath = plb.Path(f\"{cwd}/temp/dyn_{run_name}\") \n",
    "dyn.save(dyn_savepath,verbose=True)"
   ],
   "metadata": {
    "collapsed": false,
    "ExecuteTime": {
     "end_time": "2025-05-22T18:13:38.262317Z",
     "start_time": "2025-05-22T18:13:38.234176Z"
    }
   },
   "id": "64c4129952df0f31"
  }
 ],
 "metadata": {
  "kernelspec": {
   "display_name": "Python 3",
   "language": "python",
   "name": "python3"
  },
  "language_info": {
   "codemirror_mode": {
    "name": "ipython",
    "version": 2
   },
   "file_extension": ".py",
   "mimetype": "text/x-python",
   "name": "python",
   "nbconvert_exporter": "python",
   "pygments_lexer": "ipython2",
   "version": "2.7.6"
  }
 },
 "nbformat": 4,
 "nbformat_minor": 5
}

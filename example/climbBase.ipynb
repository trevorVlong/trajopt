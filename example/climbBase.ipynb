{
 "cells": [
  {
   "cell_type": "code",
   "execution_count": 1,
   "id": "initial_id",
   "metadata": {
    "collapsed": true,
    "ExecuteTime": {
     "end_time": "2025-08-05T16:27:47.686628Z",
     "start_time": "2025-08-05T16:27:46.461892Z"
    }
   },
   "outputs": [],
   "source": [
    "import aerosandbox as asb\n",
    "import aerosandbox.numpy as np\n",
    "import matplotlib.pyplot as plt\n",
    "\n",
    "from dynamics.Aircraft2D import Aircraft2DPointMass\n",
    "from aerodynamics.SimpleAircraft2D import ThinAirfoilModel\n",
    "from aerosandbox.numpy.integrate_discrete import integrate_discrete_squared_curvature as int_desc"
   ]
  },
  {
   "cell_type": "code",
   "execution_count": 2,
   "outputs": [],
   "source": [
    "# initialize the optimization problem class\n",
    "opti = asb.Opti()\n",
    "\n",
    "# set up the problem as a constant dt problem, initialize different opti.variable instances for each of the 'free' variables\n",
    "dt = .1\n",
    "time = np.arange(0,10,dt)\n",
    "N = np.length(time)\n",
    "dyn = Aircraft2DPointMass(\n",
    "    mass = 9.54, # kg # vehicle mass is encoded in the point mass info\n",
    "    Iyy = 1.83, # kg-m^2 # vehicle rolling inertia contained in point mass info\n",
    "    x_earth = opti.variable(init_guess=1*np.linspace(1,100,N),upper_bound=1e4,lower_bound=-1),  # [m] earth x-position\n",
    "    z_earth = opti.variable(init_guess=1*np.linspace(1,100,N),upper_bound=1e4,lower_bound=-1e4), # [m] # earth z-position (altitude)\n",
    "    w_body = opti.variable(init_guess=0*np.linspace(1,30,N),upper_bound=2,lower_bound=-2), # [m/s] z-component body velocity\n",
    "    u_body = opti.variable(init_guess=1*np.linspace(1,30,N),upper_bound=30,lower_bound=0), # [m/s] x-component body velocity\n",
    "    pitch = opti.variable(init_guess=0*np.linspace(1,100,N),upper_bound=30,lower_bound=-30),  # [deg] pitch of the aircraft w.r.t. x-axis in the earth frame\n",
    "    pitch_rate=opti.variable(init_guess=0*np.linspace(1,100,N),upper_bound=10,lower_bound=-10),\n",
    "    flap_deflection= 1 * np.ones(time.shape), # [deg] flap deflection angle (+ down)\n",
    "    elevator_deflection = opti.variable(init_guess=0*np.linspace(1,100,N),upper_bound=10,lower_bound=-10), # [deg] horizontal tail deflection angle (+ down)\n",
    "    throttle_position = opti.variable(init_guess=0*np.ones(time.shape),upper_bound=1,lower_bound=0) # [-] throttle position from 0-1\n",
    "    # delta_T=np.zeros(time.shape)\n",
    ")\n",
    "\n",
    "# encode aircraft dimensional information into point mass class\n",
    "dyn.Span = 3.05\n",
    "dyn.ChordMean = 0.38\n",
    "dyn.TailSpan = 1.27\n",
    "dyn.TailChordMean = 0.25\n",
    "dyn.Area = 1.09\n",
    "dyn.TailArea = 0.2"
   ],
   "metadata": {
    "collapsed": false,
    "ExecuteTime": {
     "end_time": "2025-08-05T16:27:47.772346Z",
     "start_time": "2025-08-05T16:27:47.689266Z"
    }
   },
   "id": "bf8d13d8954c6aee"
  },
  {
   "cell_type": "code",
   "execution_count": 3,
   "outputs": [],
   "source": [
    "# Initialize the dynamics model (for exactly how it works, enter the ThinAirfoilModel() class file\n",
    "amodel = ThinAirfoilModel()\n",
    "\n",
    "# generate the Lift, drag, and moment dyamics equations from the aeromodel, \n",
    "L,D,M = amodel.getForcesAndMoments(dyn)\n",
    "cl,cd,cm = amodel.fullDynamicsModel(dyn)\n",
    "Thrust = amodel.thrustModel(dyn) # thrust separately to simplify for now\n",
    "\n",
    "#=================================================\n",
    "# add constraints to the constraint list\n",
    "\n",
    "# aero forces added in aero frame\n",
    "dyn.add_force(D,L,from_axes='wind')\n",
    "dyn.add_moment(M)\n",
    "\n",
    "# non-aero forces added in the easiest frame of reference to do out the math\n",
    "dyn.add_force(0,dyn.Mass*9.81,from_axes='earth')\n",
    "#dyn.add_force(Thrust,0,from_axes='body')\n",
    "dyn.add_force(Thrust,0,from_axes='body')\n",
    "dyn.add_moment(Thrust * 0.1)"
   ],
   "metadata": {
    "collapsed": false,
    "ExecuteTime": {
     "end_time": "2025-08-05T16:27:47.793695Z",
     "start_time": "2025-08-05T16:27:47.773308Z"
    }
   },
   "id": "b820729a2b3b5602"
  },
  {
   "cell_type": "code",
   "execution_count": 4,
   "outputs": [
    {
     "data": {
      "text/plain": "MX(@1=(15.5*opti0_x_4), @2=(0.0174533*opti0_x_7), ((0.38*(1.09*((all_1.228(100x1)*(0.5*(sq(@1)+sq(opti0_x_3))))*(all_-0.00901737(100x1)-(0.183486*((1.5*(6.28319*(((0.0174533*(57.2958*atan2(opti0_x_3,@1)))+(0.36901*tan(@2)))+(0.5*(0.916515*(0.63662*tan(@2)))))))/0.38))))))+(0.1*(0.4*(93.5874*opti0_x_8)))))"
     },
     "execution_count": 4,
     "metadata": {},
     "output_type": "execute_result"
    }
   ],
   "source": [
    "dyn.My_b"
   ],
   "metadata": {
    "collapsed": false,
    "ExecuteTime": {
     "end_time": "2025-08-05T16:27:47.794089Z",
     "start_time": "2025-08-05T16:27:47.782368Z"
    }
   },
   "id": "3c72aa82fdeef5f7"
  },
  {
   "cell_type": "code",
   "execution_count": 5,
   "outputs": [
    {
     "data": {
      "text/plain": "[MX(fabs(opti0_lam_g_22)),\n MX(fabs(opti0_lam_g_23)),\n MX(fabs(opti0_lam_g_24)),\n MX(fabs(opti0_lam_g_25)),\n MX(fabs(opti0_lam_g_26)),\n MX(fabs(opti0_lam_g_27))]"
     },
     "execution_count": 5,
     "metadata": {},
     "output_type": "execute_result"
    }
   ],
   "source": [
    "# start adding constraints. This section contains general contraints (i.e. forward motion, must not be in contact with ground etc) \n",
    "\n",
    "# general forward motion and ground boundayr conditions\n",
    "opti.subject_to([\n",
    "    dyn.BodyXVelocity >= 0,\n",
    "    dyn.Altitude >= 0,\n",
    "    dyn.EarthXPosition >=0,\n",
    "    dyn.Airspeed >= 5\n",
    "])\n",
    "\n",
    "\n",
    "\n",
    "# aero model limitations on AoA \n",
    "opti.subject_to([\n",
    "    dyn.Alpha**2 <=144\n",
    "])\n",
    "\n",
    "# ===========================================================\n",
    "# set simulation - specific limits on control variables\n",
    "\n",
    "# get rates for directly-controlled state/control variables\n",
    "throttle_rate = np.diff(dyn.ThrottlePosition) / np.diff(time)\n",
    "tail_rate = np.diff(dyn.ElevatorPosition) / np.diff(time)\n",
    "\n",
    "# set constraints\n",
    "opti.subject_to([\n",
    "    # flap_rate >= -2,\n",
    "    # flap_rate <= 2,\n",
    "    tail_rate**2 <= 10,\n",
    "    dyn.ElevatorPosition**2 <= 100 ,\n",
    "    dyn.PitchRate**2 <= 100,\n",
    "    dyn.ThrottlePosition >= 0,\n",
    "    dyn.ThrottlePosition < 1, \n",
    "    throttle_rate**2 < 0.2,\n",
    "])"
   ],
   "metadata": {
    "collapsed": false,
    "ExecuteTime": {
     "end_time": "2025-08-05T16:27:47.819329Z",
     "start_time": "2025-08-05T16:27:47.786519Z"
    }
   },
   "id": "91d1af74e5bf6d77"
  },
  {
   "cell_type": "code",
   "execution_count": 6,
   "outputs": [],
   "source": [
    "# problem specific dynamics constraints including start-end boundary conditions\n",
    "\n",
    "# start constraints, in general must start at a relatively steady-level flight condition\n",
    "opti.subject_to([\n",
    "    dyn.EarthXPosition[0] == 0,  # starting position arbitrarily 0\n",
    "    dyn.Altitude[0] == 200,  # starting Altitude of 2km (~180 ft),\n",
    "    # dyn.DeltaThrottle[0] ==0.01, # throttle starts near 0\n",
    "    \n",
    "])\n",
    "\n",
    "# end constraints -- level flight\n",
    "\n",
    "# cruise constraints\n",
    "opti.subject_to([\n",
    "    dyn.Altitude[-1]-dyn.Altitude[0] >= 0\n",
    "])\n",
    "curv = int_desc(dyn.ElevatorPosition/25,time) + int_desc(dyn.ThrottlePosition,time)\n",
    "\n",
    "# cost function for the optimizer to work against\n",
    "opti.minimize(1e-2*np.sum(curv) + 100/dyn.Altitude[-1])\n",
    "\n",
    "# send constraints to the opti instance\n",
    "dyn.constrain_derivatives(opti,time,method='cubic')"
   ],
   "metadata": {
    "collapsed": false,
    "ExecuteTime": {
     "end_time": "2025-08-05T16:27:47.820862Z",
     "start_time": "2025-08-05T16:27:47.797210Z"
    }
   },
   "id": "eae401b1c87b7734"
  },
  {
   "cell_type": "code",
   "execution_count": 7,
   "outputs": [
    {
     "name": "stdout",
     "output_type": "stream",
     "text": [
      "This is Ipopt version 3.14.11, running with linear solver MUMPS 5.4.1.\n",
      "\n",
      "Number of nonzeros in equality constraint Jacobian...:     8670\n",
      "Number of nonzeros in inequality constraint Jacobian.:      997\n",
      "Number of nonzeros in Lagrangian Hessian.............:     1689\n",
      "\n",
      "Total number of variables............................:      798\n",
      "                     variables with only lower bounds:        0\n",
      "                variables with lower and upper bounds:      798\n",
      "                     variables with only upper bounds:        0\n",
      "Total number of equality constraints.................:      594\n",
      "Total number of inequality constraints...............:      599\n",
      "        inequality constraints with only lower bounds:      101\n",
      "   inequality constraints with lower and upper bounds:        0\n",
      "        inequality constraints with only upper bounds:      498\n",
      "\n",
      "iter    objective    inf_pr   inf_du lg(mu)  ||d||  lg(rg) alpha_du alpha_pr  ls\n",
      "   0  1.9802000e+02 1.99e+02 4.02e+01   0.0 0.00e+00    -  0.00e+00 0.00e+00   0\n",
      "   1  1.9774439e+02 1.99e+02 1.38e+02   0.6 1.86e+02    -  5.19e-03 5.32e-05h  1\n",
      "   2  1.6901591e+02 1.99e+02 1.62e+03   0.9 5.37e+01    -  5.25e-03 4.31e-04f  1\n",
      "   3  2.6889581e+00 1.62e+02 1.84e+06  -0.5 5.22e+01    -  1.87e-03 1.90e-01f  1\n",
      "   4  2.5211526e+00 1.52e+02 1.73e+06   1.5 1.71e+02   0.0 4.98e-01 6.06e-02f  1\n",
      "   5  3.2344512e+00 1.45e+02 1.65e+06   2.7 7.11e+01   0.4 5.11e-01 4.60e-02f  1\n",
      "   6  6.2678608e+00 5.00e+01 5.69e+05   2.4 1.62e+01   0.9 2.10e-01 6.55e-01f  1\n",
      "   7  5.9139664e+00 4.87e+01 5.55e+05   2.4 1.60e+01   3.1 1.91e-01 2.56e-02h  1\n",
      "   8  1.5503590e+00 2.19e+01 1.29e+05  -3.6 2.30e+01    -  3.39e-01 7.68e-01h  1\n",
      "   9  1.1295159e+00 1.03e+01 9.15e+04   2.5 5.06e+00   2.6 1.00e+00 2.91e-01h  1\n",
      "iter    objective    inf_pr   inf_du lg(mu)  ||d||  lg(rg) alpha_du alpha_pr  ls\n",
      "  10  1.1452479e+00 7.05e+00 7.22e+04   2.5 3.85e+00   3.0 9.76e-01 2.11e-01h  1\n",
      "  11  9.6077575e-01 5.34e+00 7.52e+04   2.3 4.90e+00   2.6 9.99e-01 2.40e-01h  1\n",
      "  12  9.0161326e-01 2.01e+01 1.30e+05   2.2 3.66e+00   3.0 9.98e-01 4.05e-01h  1\n",
      "  13  8.7960580e-01 1.79e+01 1.23e+05   1.6 4.48e+01   2.5 6.14e-02 4.35e-02h  1\n",
      "  14  1.2940452e+00 1.58e+00 2.96e+05   1.6 9.52e+00   2.9 3.11e-01 4.80e-01h  1\n",
      "  15  8.5193003e-01 1.30e+00 7.85e+05   3.2 8.72e+00   3.4 8.29e-01 1.74e-01f  1\n",
      "  16  6.1286509e-01 1.82e-01 1.41e+05  -2.8 7.92e+00   2.9 8.29e-01 8.61e-01h  1\n",
      "  17  5.4441725e-01 2.26e-03 5.24e+04   1.8 1.18e+00   3.3 9.98e-01 1.00e+00f  1\n",
      "  18  6.1525269e-01 1.23e+01 3.12e+05   2.1 4.99e+00   2.8 1.00e+00 1.00e+00f  1\n",
      "  19  5.2384568e-01 4.81e-03 4.31e+04   2.0 2.07e+00   3.3 6.37e-01 1.00e+00f  1\n",
      "iter    objective    inf_pr   inf_du lg(mu)  ||d||  lg(rg) alpha_du alpha_pr  ls\n",
      "  20  5.5242060e-01 4.68e-03 2.98e+05   3.3 8.54e+01   3.7 3.48e-01 1.08e-02f  2\n",
      "  21  8.0961063e-01 3.76e-01 1.29e+06   2.8 4.80e+01   5.0 3.28e-03 7.55e-03f  2\n",
      "  22  7.9609450e-01 1.36e+00 3.15e+06   2.8 1.83e+00   6.3 7.08e-02 6.94e-02h  1\n",
      "  23  1.0770127e+00 1.26e+00 2.77e+06   2.8 3.59e+00   5.9 2.80e-01 7.97e-02f  2\n",
      "  24  1.0468812e+00 1.20e+00 2.62e+06   2.8 5.24e+00   5.4 9.90e-02 4.02e-02f  3\n",
      "  25  1.0031802e+00 1.19e+00 2.59e+06   2.8 3.74e+01   4.9 2.94e-02 9.13e-03f  2\n",
      "  26  9.1772738e-01 1.16e+00 5.91e+06   2.8 1.02e+01   6.2 2.99e-02 1.98e-02f  3\n",
      "  27  1.1763512e+00 9.80e-01 2.65e+07   2.8 9.09e+00   5.8 3.26e-01 1.55e-01h  1\n",
      "  28  7.4054803e-01 1.85e-01 2.33e+08   2.8 2.00e+01   5.3 1.00e+00 9.87e-01h  1\n",
      "  29  7.3516332e-01 1.21e-02 4.21e+07   2.2 1.42e+01   4.8 1.00e+00 1.00e+00f  1\n",
      "iter    objective    inf_pr   inf_du lg(mu)  ||d||  lg(rg) alpha_du alpha_pr  ls\n",
      "  30  7.2763847e-01 2.11e-05 4.13e+05   1.3 4.21e-01   4.3 1.00e+00 1.00e+00f  1\n",
      "  31  7.2434302e-01 1.25e-07 2.94e+01  -0.1 1.60e-03   3.9 1.00e+00 1.00e+00f  1\n",
      "  32  7.2258851e-01 1.23e-09 1.06e+00  -1.9 4.44e-04   3.4 9.99e-01 1.00e+00h  1\n",
      "  33  7.1771655e-01 1.69e-10 9.87e-01  -3.6 1.25e-03   2.9 1.00e+00 1.00e+00h  1\n",
      "  34  7.0618722e-01 1.47e-09 9.00e-01  -5.1 3.43e-03   2.4 1.00e+00 1.00e+00h  1\n",
      "  35  6.8129152e-01 4.78e-08 8.44e-01  -6.6 9.64e-03   1.9 1.00e+00 1.00e+00h  1\n",
      "  36  6.2862502e-01 8.10e-07 7.63e-01  -7.6 2.62e-02   1.5 1.00e+00 1.00e+00f  1\n",
      "  37  5.5463146e-01 6.30e-06 1.39e+00  -8.2 5.81e-02   1.0 1.00e+00 1.00e+00f  1\n",
      "  38  5.2197944e-01 8.57e-05 2.16e+00  -8.0 5.81e-02   0.5 1.00e+00 1.00e+00h  1\n",
      "  39  5.0992118e-01 9.48e-05 3.68e-01  -7.7 5.90e-02   0.0 1.00e+00 1.00e+00h  1\n",
      "iter    objective    inf_pr   inf_du lg(mu)  ||d||  lg(rg) alpha_du alpha_pr  ls\n",
      "  40  5.0565047e-01 1.68e-05 1.36e-01  -7.7 1.03e-01  -0.4 1.00e+00 1.00e+00h  1\n",
      "  41  5.0527535e-01 1.62e-04 1.18e-01  -7.9 7.38e-02  -0.9 1.00e+00 5.00e-01h  2\n",
      "  42  5.0639767e-01 1.50e-04 1.69e-01  -7.4 9.15e-02  -1.4 1.00e+00 1.00e+00H  1\n",
      "  43  5.0463516e-01 1.30e-04 1.97e-02  -5.9 1.01e-01  -1.9 1.00e+00 1.00e+00h  1\n",
      "  44  5.0315308e-01 6.79e-04 3.06e-03  -5.4 2.65e-01  -2.4 1.00e+00 1.00e+00h  1\n",
      "  45  5.0120007e-01 5.96e-04 1.29e-03  -5.5 5.91e-01  -2.8 6.02e-01 9.84e-01h  1\n",
      "  46  4.9862121e-01 3.84e-04 2.25e-03  -6.4 8.70e-01  -3.3 1.00e+00 1.00e+00h  1\n",
      "  47  4.9490791e-01 1.14e-03 1.55e-03  -5.3 1.35e+00  -3.8 1.00e+00 1.00e+00h  1\n",
      "  48  4.9214290e-01 3.77e-02 1.36e-04  -4.8 1.09e+00  -4.3 1.00e+00 1.00e+00h  1\n",
      "  49  4.7861743e-01 1.29e-01 3.71e-03  -4.9 5.69e+00  -4.7 5.09e-01 1.00e+00h  1\n",
      "iter    objective    inf_pr   inf_du lg(mu)  ||d||  lg(rg) alpha_du alpha_pr  ls\n",
      "  50  4.7383452e-01 1.30e-02 1.02e-04  -5.8 2.10e+00  -4.3 1.00e+00 1.00e+00h  1\n",
      "  51  4.6365432e-01 1.13e-01 1.61e-04  -5.8 4.64e+00  -4.8 1.00e+00 1.00e+00h  1\n",
      "  52  4.4744814e-01 3.74e-01 4.06e-04  -6.2 7.79e+00  -5.3 9.95e-01 1.00e+00h  1\n",
      "  53  4.4483978e-01 4.00e-02 7.94e-05  -6.7 2.04e+00  -4.8 1.00e+00 1.00e+00h  1\n",
      "  54  4.3587210e-01 2.24e-01 1.25e-04  -7.3 4.64e+00  -5.3 1.00e+00 1.00e+00h  1\n",
      "  55  4.2338176e-01 5.20e-01 2.40e-04  -7.9 8.59e+00  -5.8 1.00e+00 1.00e+00h  1\n",
      "  56  4.1213154e-01 7.97e-01 2.46e-03  -5.9 1.50e+01  -6.3 3.01e-01 9.65e-01h  1\n",
      "  57  4.1235933e-01 6.52e-02 3.81e-03  -5.2 7.07e+00  -5.8 3.47e-01 1.00e+00h  1\n",
      "  58  4.0961245e-01 2.53e-01 3.60e-04  -4.9 1.48e+01  -6.3 8.31e-01 1.00e+00h  1\n",
      "  59  4.0758298e-01 3.20e-01 8.89e-05  -4.7 1.75e+01  -6.8 1.00e+00 1.00e+00h  1\n",
      "iter    objective    inf_pr   inf_du lg(mu)  ||d||  lg(rg) alpha_du alpha_pr  ls\n",
      "  60  4.0535832e-01 1.54e-01 1.78e-04  -4.7 1.52e+01  -7.3 8.12e-01 1.00e+00h  1\n",
      "  61  4.0306983e-01 2.68e-01 4.08e-04  -5.2 4.80e+01    -  6.88e-01 1.00e+00h  1\n",
      "  62  4.0213611e-01 1.43e-01 7.45e-06  -5.4 1.14e+01    -  1.00e+00 1.00e+00h  1\n",
      "  63  4.0156021e-01 8.24e-02 3.83e-06  -5.9 1.05e+01    -  1.00e+00 1.00e+00h  1\n",
      "  64  4.0138120e-01 3.53e-02 1.48e-06  -6.5 8.45e+00    -  1.00e+00 1.00e+00h  1\n",
      "  65  4.0133437e-01 7.89e-03 2.78e-07  -6.9 6.77e+00    -  1.00e+00 1.00e+00h  1\n",
      "  66  4.0131439e-01 2.10e-03 7.76e-08  -7.4 3.27e+00    -  1.00e+00 1.00e+00h  1\n",
      "  67  4.0130793e-01 4.83e-04 1.77e-08  -7.8 1.40e+00    -  1.00e+00 1.00e+00h  1\n",
      "  68  4.0130576e-01 6.47e-05 4.32e-09  -8.3 4.78e-01    -  1.00e+00 1.00e+00h  1\n",
      "  69  4.0130501e-01 7.88e-06 1.39e-09  -8.9 5.17e-01    -  1.00e+00 1.00e+00h  1\n",
      "iter    objective    inf_pr   inf_du lg(mu)  ||d||  lg(rg) alpha_du alpha_pr  ls\n",
      "  70  4.0130483e-01 6.96e-07 3.54e-10  -9.4 1.45e-01    -  1.00e+00 1.00e+00h  1\n",
      "  71  4.0130476e-01 8.63e-08 3.74e-11 -10.0 4.41e-02    -  1.00e+00 1.00e+00h  1\n",
      "  72  4.0130475e-01 8.16e-09 2.70e-11 -10.7 2.60e-02    -  1.00e+00 1.00e+00h  1\n",
      "\n",
      "Number of Iterations....: 72\n",
      "\n",
      "                                   (scaled)                 (unscaled)\n",
      "Objective...............:   4.0130474719628734e-01    4.0130474719628734e-01\n",
      "Dual infeasibility......:   2.7006550778893606e-11    2.7006550778893606e-11\n",
      "Constraint violation....:   8.1601775753226136e-09    8.1601775753226136e-09\n",
      "Variable bound violation:   2.0364386799087697e-07    2.0364386799087697e-07\n",
      "Complementarity.........:   6.7203815482766022e-11    6.7203815482766022e-11\n",
      "Overall NLP error.......:   8.1601775753226136e-09    8.1601775753226136e-09\n",
      "\n",
      "\n",
      "Number of objective function evaluations             = 93\n",
      "Number of objective gradient evaluations             = 73\n",
      "Number of equality constraint evaluations            = 93\n",
      "Number of inequality constraint evaluations          = 93\n",
      "Number of equality constraint Jacobian evaluations   = 73\n",
      "Number of inequality constraint Jacobian evaluations = 73\n",
      "Number of Lagrangian Hessian evaluations             = 72\n",
      "Total seconds in IPOPT                               = 0.406\n",
      "\n",
      "EXIT: Optimal Solution Found.\n",
      "      solver  :   t_proc      (avg)   t_wall      (avg)    n_eval\n",
      "       nlp_f  | 597.00us (  6.42us) 595.04us (  6.40us)        93\n",
      "       nlp_g  |   3.72ms ( 40.01us)   3.64ms ( 39.19us)        93\n",
      "  nlp_grad_f  |   2.08ms ( 14.05us)   2.05ms ( 13.83us)       148\n",
      "  nlp_hess_l  |  17.03ms (236.56us)  17.08ms (237.21us)        72\n",
      "   nlp_jac_g  |  38.29ms (517.43us)  38.42ms (519.22us)        74\n",
      "       total  | 404.74ms (404.74ms) 406.89ms (406.89ms)         1\n"
     ]
    }
   ],
   "source": [
    "# run the optimizaiton problem, if it fails return the last solution. The optimizer is very sensitive to boundary constraints, so it will sometimes fail even though a solution is nearly correct so it is reasonable to inspect those solutions sometimes\n",
    "try:\n",
    "    sol = opti.solve(max_iter=2000,behavior_on_failure=\"return_last\",detect_simple_bounds=True)\n",
    "    dyn = sol(dyn)\n",
    "    x_e = dyn.EarthXPosition\n",
    "    z_e = dyn.Altitude\n",
    "    u = dyn.BodyXVelocity\n",
    "    w = dyn.BodyZVelocity\n",
    "    time = sol(time)\n",
    "    \n",
    "except RuntimeError:\n",
    "    dyn = sol(dyn)\n",
    "    x_e = dyn.EarthXPosition\n",
    "    z_e = dyn.Altitude\n",
    "    u = dyn.BodyXVelocity\n",
    "    w = dyn.BodyZVelocity\n",
    "    time = sol(time)\n"
   ],
   "metadata": {
    "collapsed": false,
    "ExecuteTime": {
     "end_time": "2025-08-05T16:27:49.422123Z",
     "start_time": "2025-08-05T16:27:47.817263Z"
    }
   },
   "id": "8e9b89aea627c0e7"
  },
  {
   "cell_type": "code",
   "execution_count": 9,
   "outputs": [
    {
     "data": {
      "text/plain": "<Figure size 600x1000 with 5 Axes>",
      "image/png": "[encoded data removed]"
     },
     "metadata": {},
     "output_type": "display_data"
    },
    {
     "data": {
      "text/plain": "<Figure size 600x300 with 1 Axes>",
      "image/png": "[encoded data removed]"
     },
     "metadata": {},
     "output_type": "display_data"
    },
    {
     "data": {
      "text/plain": "<Figure size 600x300 with 1 Axes>",
      "image/png": "[encoded data removed]"
     },
     "metadata": {},
     "output_type": "display_data"
    }
   ],
   "source": [
    "# everything from here on is plotting and plotting to debug and so is not yet totally cleaned. \n",
    "\n",
    "from dynamics.visualization import visualizeRun2D\n",
    "fig_dict = visualizeRun2D(time,dyn)"
   ],
   "metadata": {
    "collapsed": false,
    "ExecuteTime": {
     "end_time": "2025-08-05T16:27:59.151971Z",
     "start_time": "2025-08-05T16:27:58.629140Z"
    }
   },
   "id": "75e23ddc1d160d8f"
  },
  {
   "cell_type": "code",
   "execution_count": null,
   "outputs": [],
   "source": [],
   "metadata": {
    "collapsed": false,
    "ExecuteTime": {
     "end_time": "2025-08-05T16:27:50.044418Z",
     "start_time": "2025-08-05T16:27:50.043634Z"
    }
   },
   "id": "8ed52cdf999e77cb"
  },
  {
   "cell_type": "code",
   "execution_count": null,
   "outputs": [],
   "source": [
    "L,D,M = amodel.getForcesAndMoments(dyn)\n",
    "cl,cd,cm = amodel.fullDynamicsModel(dyn)\n",
    "clt,cdt,cmt = amodel.tailDynamicsModel(dyn)\n",
    "clw,cdw,cmw = amodel.wingDynamicsModel(dyn)\n",
    "thrust = amodel.thrustModel(dyn)"
   ],
   "metadata": {
    "collapsed": false,
    "ExecuteTime": {
     "start_time": "2025-08-05T16:27:50.044620Z"
    }
   },
   "id": "d7b0f5f02a92ad15"
  },
  {
   "cell_type": "code",
   "execution_count": null,
   "outputs": [],
   "source": [
    "\n",
    "\n",
    "\n",
    "plt.plot(time,dyn.EarthZVelocity,label='earth_vert')\n",
    "plt.plot(time,dyn.Altitude-dyn.Altitude[0],label='alt')\n",
    "plt.plot(time,dyn.Pitch,label='pitch')\n",
    "plt.plot(time,dyn.ElevatorPosition,label='elev')\n",
    "\n",
    "\n",
    "plt.legend()"
   ],
   "metadata": {
    "collapsed": false,
    "ExecuteTime": {
     "start_time": "2025-08-05T16:27:50.045733Z"
    }
   },
   "id": "3158075d1ed6099b"
  },
  {
   "cell_type": "code",
   "execution_count": null,
   "outputs": [],
   "source": [
    "  \n",
    "plt.plot(time,dyn.BodyZVelocity,label='w_e')\n",
    "plt.plot(time,dyn.BodyXVelocity,label='u_b')\n",
    "plt.plot(time,dyn.Altitude-dyn.Altitude[0],label='dalt')\n",
    "plt.legend()"
   ],
   "metadata": {
    "collapsed": false,
    "ExecuteTime": {
     "start_time": "2025-08-05T16:27:50.046589Z"
    }
   },
   "id": "ebc33f2e326ed480"
  },
  {
   "cell_type": "code",
   "execution_count": null,
   "outputs": [],
   "source": [
    "plt.plot(time,cmw,label='cmw')\n",
    "plt.plot(time,cmt,label='cmt')\n",
    "plt.plot(time,cm)\n",
    "plt.legend()"
   ],
   "metadata": {
    "collapsed": false,
    "ExecuteTime": {
     "start_time": "2025-08-05T16:27:50.047586Z"
    }
   },
   "id": "69330e52f13a1e16"
  },
  {
   "cell_type": "code",
   "execution_count": null,
   "outputs": [],
   "source": [
    "plt.plot(time,dyn.Pitch)\n",
    "plt.plot(time,dyn.DeltaElevator)\n",
    "\n",
    "\n",
    "plt.legend()"
   ],
   "metadata": {
    "collapsed": false,
    "ExecuteTime": {
     "start_time": "2025-08-05T16:27:50.048474Z"
    }
   },
   "id": "8e3f5beaf4cf9fbd"
  },
  {
   "cell_type": "code",
   "execution_count": null,
   "outputs": [],
   "source": [
    "plt.plot(time,dyn.Fx_b,label='xforce')\n",
    "plt.plot(time,dyn.Pitch,label='pitch')\n",
    "plt.plot(time,thrust,label='thrust-force')\n",
    "fx,fz = dyn.convert_axes(D,0,from_axes='wind',to_axes='body')\n",
    "plt.plot(time,fx  ,label='drag force')\n",
    "plt.plot(time,dyn.a_x,label='ax')\n",
    "\n",
    "plt.legend()\n"
   ],
   "metadata": {
    "collapsed": false,
    "ExecuteTime": {
     "start_time": "2025-08-05T16:27:50.049266Z"
    }
   },
   "id": "ad3ed07d5902b25e"
  },
  {
   "cell_type": "code",
   "execution_count": null,
   "outputs": [],
   "source": [
    "\n",
    "plt.plot(time,dyn.Airspeed*np.cosd(dyn.Pitch),label='u_e')\n",
    "# plt.plot(time,dyn.speed*np.sind(dyn.Pitch),label='w_e')\n",
    "plt.plot(time,dyn.w_e,label='computed w_e')\n",
    "plt.plot(time,dyn.Pitch,label='pitch')\n",
    "\n",
    "plt.legend()"
   ],
   "metadata": {
    "collapsed": false,
    "ExecuteTime": {
     "start_time": "2025-08-05T16:27:50.050167Z"
    }
   },
   "id": "146f896bc2d8bc58"
  },
  {
   "cell_type": "code",
   "execution_count": null,
   "outputs": [],
   "source": [
    "plt.plot(clt)\n",
    "plt.plot(dyn.alpha)"
   ],
   "metadata": {
    "collapsed": false,
    "ExecuteTime": {
     "start_time": "2025-08-05T16:27:50.050966Z"
    }
   },
   "id": "74b6f7be6fecce86"
  },
  {
   "cell_type": "code",
   "execution_count": null,
   "outputs": [],
   "source": [
    "plt.figure()\n",
    "\n",
    "plt.plot(time,dyn.KE-dyn.KE[0],label='KE')\n",
    "plt.plot(time,dyn.PE-dyn.PE[0],label='PE')\n",
    "plt.plot(time,dyn.TE-dyn.TE[0],label='TE')\n",
    "plt.legend()"
   ],
   "metadata": {
    "collapsed": false,
    "ExecuteTime": {
     "start_time": "2025-08-05T16:27:50.051816Z"
    }
   },
   "id": "1bbf296515aa3c0a"
  },
  {
   "cell_type": "code",
   "execution_count": null,
   "outputs": [],
   "source": [
    "dyn.z_e[-1]"
   ],
   "metadata": {
    "collapsed": false,
    "ExecuteTime": {
     "start_time": "2025-08-05T16:27:50.052714Z"
    }
   },
   "id": "896d84fa2ad7e9ca"
  },
  {
   "cell_type": "code",
   "execution_count": null,
   "outputs": [],
   "source": [
    "dyn.z_e[0]"
   ],
   "metadata": {
    "collapsed": false,
    "ExecuteTime": {
     "start_time": "2025-08-05T16:27:50.053296Z"
    }
   },
   "id": "e0208188b438c4ac"
  },
  {
   "cell_type": "code",
   "execution_count": null,
   "outputs": [],
   "source": [
    "plt.plot(time,cmw)\n",
    "plt.plot(time,clt,label='clt')\n",
    "plt.plot(time,cm,label='cm',color='green')\n",
    "plt.plot(time,dyn.My_b,label='my')\n",
    "plt.plot(time,dyn.Pitch/100,label='Pitch')\n",
    "\n",
    "plt.legend()\n"
   ],
   "metadata": {
    "collapsed": false,
    "ExecuteTime": {
     "start_time": "2025-08-05T16:27:50.053896Z"
    }
   },
   "id": "2b00c3b899f0d4f8"
  },
  {
   "cell_type": "code",
   "execution_count": null,
   "outputs": [],
   "source": [
    "plt.plot(dyn.delta_T)"
   ],
   "metadata": {
    "collapsed": false,
    "ExecuteTime": {
     "start_time": "2025-08-05T16:27:50.054562Z"
    }
   },
   "id": "ca10612c8a68963b"
  },
  {
   "cell_type": "code",
   "execution_count": null,
   "outputs": [],
   "source": [
    " np.array([dyn.Pitch,dyn.dtheta]).T"
   ],
   "metadata": {
    "collapsed": false,
    "ExecuteTime": {
     "start_time": "2025-08-05T16:27:50.055336Z"
    }
   },
   "id": "64fb0566da715df7"
  },
  {
   "cell_type": "code",
   "execution_count": null,
   "outputs": [],
   "source": [
    "dyn.BodyXVelocity"
   ],
   "metadata": {
    "collapsed": false,
    "ExecuteTime": {
     "start_time": "2025-08-05T16:27:50.055997Z"
    }
   },
   "id": "a81b18f6306f95b"
  },
  {
   "cell_type": "code",
   "execution_count": null,
   "outputs": [],
   "source": [
    "dyn.My_b"
   ],
   "metadata": {
    "collapsed": false,
    "ExecuteTime": {
     "start_time": "2025-08-05T16:27:50.056657Z"
    }
   },
   "id": "1bb7c5d4ea9c4f20"
  },
  {
   "cell_type": "code",
   "execution_count": null,
   "outputs": [],
   "source": [
    "dyn.Altitude"
   ],
   "metadata": {
    "collapsed": false,
    "ExecuteTime": {
     "start_time": "2025-08-05T16:27:50.057345Z"
    }
   },
   "id": "ad4ced1a7d31b699"
  },
  {
   "cell_type": "code",
   "execution_count": null,
   "outputs": [],
   "source": [],
   "metadata": {
    "collapsed": false,
    "ExecuteTime": {
     "start_time": "2025-08-05T16:27:50.057904Z"
    }
   },
   "id": "7be5737f87ea722c"
  }
 ],
 "metadata": {
  "kernelspec": {
   "display_name": "Python 3",
   "language": "python",
   "name": "python3"
  },
  "language_info": {
   "codemirror_mode": {
    "name": "ipython",
    "version": 2
   },
   "file_extension": ".py",
   "mimetype": "text/x-python",
   "name": "python",
   "nbconvert_exporter": "python",
   "pygments_lexer": "ipython2",
   "version": "2.7.6"
  }
 },
 "nbformat": 4,
 "nbformat_minor": 5
}

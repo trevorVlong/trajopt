{
 "cells": [
  {
   "cell_type": "code",
   "execution_count": 1,
   "id": "initial_id",
   "metadata": {
    "collapsed": true,
    "ExecuteTime": {
     "end_time": "2025-08-05T03:10:05.355163Z",
     "start_time": "2025-08-05T03:10:04.341905Z"
    }
   },
   "outputs": [],
   "source": [
    "import aerosandbox as asb\n",
    "import aerosandbox.numpy as np\n",
    "import matplotlib.pyplot as plt\n",
    "\n",
    "from dynamics.RigidMotion.Aircraft2D import Aircraft2DPointMass\n",
    "from aerodynamics.SimpleAircraft2D import ThinAirfoilModel\n",
    "from aerosandbox.numpy.integrate_discrete import integrate_discrete_squared_curvature as int_desc"
   ]
  },
  {
   "cell_type": "code",
   "execution_count": 1,
   "outputs": [],
   "source": [],
   "metadata": {
    "collapsed": false,
    "ExecuteTime": {
     "end_time": "2025-08-05T03:10:05.358014Z",
     "start_time": "2025-08-05T03:10:05.355656Z"
    }
   },
   "id": "cc71a4d2f2a437c5"
  },
  {
   "cell_type": "code",
   "execution_count": 2,
   "outputs": [],
   "source": [
    "# initialize the optimization problem class\n",
    "opti = asb.Opti()\n",
    "\n",
    "# set up the problem as a constant dt problem, initialize different opti.variable instances for each of the 'free' variables\n",
    "dt = 0.05\n",
    "time = np.arange(0,20,dt)\n",
    "N = np.length(time)\n",
    "dyn = Aircraft2DPointMass(\n",
    "    mass = 9.54, # kg # vehicle mass is encoded in the point mass info\n",
    "    Iyy = 1.83, # kg-m^2 # vehicle rolling inertia contained in point mass info\n",
    "    x_earth = opti.variable(init_guess=1*np.linspace(1,100,N),upper_bound=1e4,lower_bound=-1),  # [m] earth x-position\n",
    "    z_earth = opti.variable(init_guess=1*np.linspace(1,100,N),upper_bound=1e4,lower_bound=-1e4), # [m] # earth z-position (altitude)\n",
    "    w_body = opti.variable(init_guess=0*np.linspace(1,30,N),upper_bound=2,lower_bound=-2), # [m/s] z-component body velocity\n",
    "    u_body = opti.variable(init_guess=1*np.linspace(1,30,N),upper_bound=30,lower_bound=0), # [m/s] x-component body velocity\n",
    "    pitch = opti.variable(init_guess=1*np.ones(N,),upper_bound=30,lower_bound=-30,freeze=False),  # [deg] pitch of the aircraft w.r.t. x-axis in the earth frame\n",
    "    pitch_rate = opti.variable(init_guess=1*np.zeros((N,)),lower_bound=-10,upper_bound=10),\n",
    "    flap_deflection= 1 * np.ones(time.shape), # [deg] flap deflection angle (+ down)\n",
    "    elevator_deflection = opti.variable(init_guess=0*np.linspace(1,100,N),upper_bound=10,lower_bound=-10), # [deg] horizontal tail deflection angle (+ down)\n",
    "    throttle_position = opti.variable(init_guess=0*np.ones(time.shape),upper_bound=1,lower_bound=0) # [-] throttle position from 0-1\n",
    "    # delta_T=np.zeros(time.shape)\n",
    ")\n",
    "\n",
    "dyn.WindModel.setParameters(model_name='gaussian1D', **{'STD':10,'center':50,'MaxGustVelocity':-3,'axis':'x'})\n",
    "# encode aircraft dimensional information into point mass class\n",
    "dyn.Span = 3.05\n",
    "dyn.ChordMean = 0.38\n",
    "dyn.TailSpan = 1.27\n",
    "dyn.TailChordMean = 0.25\n",
    "dyn.Area = 1.09\n",
    "dyn.TailArea = 0.2"
   ],
   "metadata": {
    "collapsed": false,
    "ExecuteTime": {
     "end_time": "2025-08-05T03:10:05.429560Z",
     "start_time": "2025-08-05T03:10:05.360023Z"
    }
   },
   "id": "bf8d13d8954c6aee"
  },
  {
   "cell_type": "code",
   "execution_count": 3,
   "outputs": [
    {
     "data": {
      "text/plain": "<matplotlib.quiver.Quiver at 0x11ddd7f80>"
     },
     "execution_count": 3,
     "metadata": {},
     "output_type": "execute_result"
    },
    {
     "data": {
      "text/plain": "<Figure size 640x480 with 1 Axes>",
      "image/png": "[encoded data removed]"
     },
     "metadata": {},
     "output_type": "display_data"
    }
   ],
   "source": [
    "model = dyn.WindModel\n",
    "\n",
    "model.visualize(np.linspace(0,100,101),np.zeros(101,))"
   ],
   "metadata": {
    "collapsed": false,
    "ExecuteTime": {
     "end_time": "2025-08-05T03:10:05.570117Z",
     "start_time": "2025-08-05T03:10:05.445988Z"
    }
   },
   "id": "9cf29c0abfa5de30"
  },
  {
   "cell_type": "code",
   "execution_count": 4,
   "outputs": [],
   "source": [
    "# Initialize the dynamics model (for exactly how it works, enter the ThinAirfoilModel() class file\n",
    "amodel = ThinAirfoilModel()\n",
    "\n",
    "# generate the Lift, drag, and moment dyamics equations from the aeromodel, \n",
    "L,D,M = amodel.getForcesAndMoments(dyn)\n",
    "cl,cd,cm = amodel.fullDynamicsModel(dyn)\n",
    "Thrust = amodel.thrustModel(dyn) # thrust separately to simplify for now\n",
    "\n",
    "#=================================================\n",
    "# add constraints to the constraint list\n",
    "\n",
    "# aero forces added in aero frame\n",
    "dyn.add_force(D,L,from_axes='wind')\n",
    "dyn.add_moment(M)\n",
    "\n",
    "# non-aero forces added in the easiest frame of reference to do out the math\n",
    "dyn.add_force(0,dyn.Mass*9.81,from_axes='earth')\n",
    "#dyn.add_force(Thrust,0,from_axes='body')\n",
    "dyn.add_force(Thrust,0,from_axes='body')\n",
    "dyn.add_moment(Thrust * 0.1)"
   ],
   "metadata": {
    "collapsed": false,
    "ExecuteTime": {
     "end_time": "2025-08-05T03:10:05.577714Z",
     "start_time": "2025-08-05T03:10:05.576386Z"
    }
   },
   "id": "b820729a2b3b5602"
  },
  {
   "cell_type": "code",
   "execution_count": 5,
   "outputs": [
    {
     "data": {
      "text/plain": "[MX(fabs(opti0_lam_g_22)),\n MX(fabs(opti0_lam_g_23)),\n MX(fabs(opti0_lam_g_24)),\n MX(fabs(opti0_lam_g_25)),\n MX(fabs(opti0_lam_g_26)),\n MX(fabs(opti0_lam_g_27))]"
     },
     "execution_count": 5,
     "metadata": {},
     "output_type": "execute_result"
    }
   ],
   "source": [
    "# start adding constraints. This section contains general contraints (i.e. forward motion, must not be in contact with ground etc) \n",
    "\n",
    "# general forward motion and ground boundayr conditions\n",
    "opti.subject_to([\n",
    "    dyn.BodyXVelocity >= 0,\n",
    "    dyn.Altitude >= 0,\n",
    "    dyn.EarthXPosition >=0,\n",
    "    dyn.Airspeed >= 5,\n",
    "    dyn.Airspeed[0] == 15\n",
    "])\n",
    "\n",
    "\n",
    "\n",
    "# aero model limitations on AoA \n",
    "# ===========================================================\n",
    "# set simulation - specific limits on control variables\n",
    "\n",
    "# get rates for directly-controlled state/control variables\n",
    "throttle_rate = np.diff(dyn.ThrottlePosition) / np.diff(time)\n",
    "tail_rate = np.diff(dyn.ElevatorPosition) / np.diff(time)\n",
    "\n",
    "# set constraints\n",
    "opti.subject_to([\n",
    "    # flap_rate >= -2,\n",
    "    # flap_rate <= 2,\n",
    "    tail_rate**2 <= 50,\n",
    "    dyn.ElevatorPosition**2 <= 225 ,\n",
    "    dyn.PitchRate**2 <= 100,\n",
    "    dyn.ThrottlePosition >= 0,\n",
    "    dyn.ThrottlePosition < 1, \n",
    "    throttle_rate**2 < 0.2,\n",
    "])"
   ],
   "metadata": {
    "collapsed": false,
    "ExecuteTime": {
     "end_time": "2025-08-05T03:10:05.584927Z",
     "start_time": "2025-08-05T03:10:05.580039Z"
    }
   },
   "id": "91d1af74e5bf6d77"
  },
  {
   "cell_type": "code",
   "execution_count": 6,
   "outputs": [],
   "source": [
    "# problem specific dynamics constraints including start-end boundary conditions\n",
    "\n",
    "# start constraints, in general must start at a relatively steady-level flight condition\n",
    "opti.subject_to([\n",
    "    dyn.EarthXPosition[0] == 0,  # starting position arbitrarily 0\n",
    "    dyn.Altitude[0] == 200,  # starting Altitude of 2km (~180 ft),\n",
    "    # dyn.DeltaThrottle[0] ==0.01, # throttle starts near 0\n",
    "    \n",
    "])\n",
    "\n",
    "# end constraints -- level flight\n",
    "\n",
    "# cruise constraints\n",
    "opti.subject_to([\n",
    "    (dyn.Altitude[1:]-dyn.Altitude[0])**2 < 400,\n",
    "    (dyn.Alpha[1:] - dyn.Alpha[0])**2 < 50,\n",
    "])\n",
    "curv = int_desc(dyn.ElevatorPosition/25,time) + int_desc(dyn.ThrottlePosition,time) + 10 * int_desc(dyn.PitchRate,time)\n",
    "\n",
    "# cost function for the optimizer to work against\n",
    "opti.minimize(1e-3*np.sum(curv) + np.sum((dyn.Altitude[0] - dyn.Altitude[:-1])**2))\n",
    "\n",
    "# send constraints to the opti instance\n",
    "dyn.constrain_derivatives(opti,time,method='cubic')"
   ],
   "metadata": {
    "collapsed": false,
    "ExecuteTime": {
     "end_time": "2025-08-05T03:10:05.635967Z",
     "start_time": "2025-08-05T03:10:05.586027Z"
    }
   },
   "id": "eae401b1c87b7734"
  },
  {
   "cell_type": "code",
   "execution_count": null,
   "outputs": [],
   "source": [
    "# run the optimizaiton problem, if it fails return the last solution. The optimizer is very sensitive to boundary constraints, so it will sometimes fail even though a solution is nearly correct so it is reasonable to inspect those solutions sometimes\n",
    "try:\n",
    "    sol = opti.solve(max_iter=2000,behavior_on_failure=\"return_last\",detect_simple_bounds=True,max_runtime=60)\n",
    "    dyn = sol(dyn)\n",
    "    x_e = dyn.EarthXPosition\n",
    "    z_e = dyn.Altitude\n",
    "    u = dyn.BodyXVelocity\n",
    "    w = dyn.BodyZVelocity\n",
    "    time = sol(time)\n",
    "    \n",
    "except RuntimeError:\n",
    "    dyn = sol(dyn)\n",
    "    x_e = dyn.EarthXPosition\n",
    "    z_e = dyn.Altitude\n",
    "    u = dyn.BodyXVelocity\n",
    "    w = dyn.BodyZVelocity\n",
    "    time = sol(time)\n"
   ],
   "metadata": {
    "collapsed": false,
    "is_executing": true
   },
   "id": "8e9b89aea627c0e7"
  },
  {
   "cell_type": "code",
   "execution_count": null,
   "outputs": [],
   "source": [
    "# everything from here on is plotting and plotting to debug and so is not yet totally cleaned. \n",
    "\n",
    "from dynamics.RigidMotion.visualization import visualizeRun2D\n",
    "fig_dict = visualizeRun2D(dyn.EarthXPosition,dyn)"
   ],
   "metadata": {
    "collapsed": false,
    "is_executing": true
   },
   "id": "75e23ddc1d160d8f"
  },
  {
   "cell_type": "code",
   "execution_count": null,
   "outputs": [],
   "source": [],
   "metadata": {
    "collapsed": false,
    "is_executing": true
   },
   "id": "8ed52cdf999e77cb"
  },
  {
   "cell_type": "code",
   "execution_count": null,
   "outputs": [],
   "source": [
    "L,D,M = amodel.getForcesAndMoments(dyn)\n",
    "cl,cd,cm = amodel.fullDynamicsModel(dyn)\n",
    "clt,cdt,cmt = amodel.tailDynamicsModel(dyn)\n",
    "clw,cdw,cmw = amodel.wingDynamicsModel(dyn)\n",
    "thrust = amodel.thrustModel(dyn)"
   ],
   "metadata": {
    "collapsed": false,
    "is_executing": true
   },
   "id": "d7b0f5f02a92ad15"
  },
  {
   "cell_type": "code",
   "execution_count": null,
   "outputs": [],
   "source": [
    "\n",
    "\n",
    "\n",
    "plt.plot(time,dyn.EarthZVelocity,label='earth_vert')\n",
    "plt.plot(time,dyn.Altitude-dyn.Altitude[0],label='alt')\n",
    "plt.plot(time,dyn.Pitch,label='pitch')\n",
    "plt.plot(time,dyn.ElevatorPosition,label='elev')\n",
    "\n",
    "\n",
    "plt.legend()"
   ],
   "metadata": {
    "collapsed": false,
    "is_executing": true
   },
   "id": "3158075d1ed6099b"
  },
  {
   "cell_type": "code",
   "execution_count": null,
   "outputs": [],
   "source": [
    "  \n",
    "\n",
    "plt.plot(dyn.EarthXPosition,dyn.Airspeed,label='aspd')\n",
    "plt.plot(dyn.EarthXPosition,dyn.EarthXVelocity,label='gspd',linestyle='dashed')\n",
    "plt.plot(dyn.EarthXPosition,dyn.BodyXVelocity,label='bodyx'),\n",
    "plt.plot(dyn.EarthXPosition,dyn.Pitch,label='pitch')\n",
    "plt.plot(dyn.EarthXPosition,dyn.EarthZVelocity,label='earthz')\n",
    "plt.plot(dyn.EarthXPosition,dyn.BodyZVelocity,label='bodyz')\n",
    "plt.plot(dyn.EarthXPosition,dyn.Alpha,label='alpha')\n",
    "plt.legend()"
   ],
   "metadata": {
    "collapsed": false,
    "is_executing": true
   },
   "id": "ebc33f2e326ed480"
  },
  {
   "cell_type": "code",
   "execution_count": null,
   "outputs": [],
   "source": [
    "plt.plot(time,cmw,label='cmw')\n",
    "plt.plot(time,cmt,label='cmt')\n",
    "plt.plot(time,cm)\n",
    "plt.legend()"
   ],
   "metadata": {
    "collapsed": false,
    "is_executing": true
   },
   "id": "69330e52f13a1e16"
  },
  {
   "cell_type": "code",
   "execution_count": null,
   "outputs": [],
   "source": [
    "plt.plot(time,dyn.Pitch)\n",
    "plt.plot(time,dyn.DeltaElevator)\n",
    "\n",
    "\n",
    "plt.legend()"
   ],
   "metadata": {
    "collapsed": false,
    "is_executing": true
   },
   "id": "8e3f5beaf4cf9fbd"
  },
  {
   "cell_type": "code",
   "execution_count": null,
   "outputs": [],
   "source": [
    "plt.plot(time,dyn.Fx_b,label='xforce')\n",
    "plt.plot(time,dyn.Pitch,label='pitch')\n",
    "plt.plot(time,thrust,label='thrust-force')\n",
    "fx,fz = dyn.convert_axes(D,0,from_axes='wind',to_axes='body')\n",
    "plt.plot(time,fx  ,label='drag force')\n",
    "plt.plot(time,dyn.a_x,label='ax')\n",
    "\n",
    "plt.legend()\n"
   ],
   "metadata": {
    "collapsed": false,
    "is_executing": true
   },
   "id": "ad3ed07d5902b25e"
  },
  {
   "cell_type": "code",
   "execution_count": null,
   "outputs": [],
   "source": [
    "\n",
    "plt.plot(time,dyn.Airspeed*np.cosd(dyn.Pitch),label='u_e')\n",
    "# plt.plot(time,dyn.speed*np.sind(dyn.Pitch),label='w_e')\n",
    "plt.plot(time,dyn.w_e,label='computed w_e')\n",
    "plt.plot(time,dyn.Pitch,label='pitch')\n",
    "\n",
    "plt.legend()"
   ],
   "metadata": {
    "collapsed": false,
    "is_executing": true
   },
   "id": "146f896bc2d8bc58"
  },
  {
   "cell_type": "code",
   "execution_count": null,
   "outputs": [],
   "source": [
    "plt.plot(clt)\n",
    "plt.plot(dyn.alpha)"
   ],
   "metadata": {
    "collapsed": false,
    "is_executing": true
   },
   "id": "74b6f7be6fecce86"
  },
  {
   "cell_type": "code",
   "execution_count": null,
   "outputs": [],
   "source": [
    "plt.figure()\n",
    "\n",
    "plt.plot(time,dyn.KE-dyn.KE[0],label='KE')\n",
    "plt.plot(time,dyn.PE-dyn.PE[0],label='PE')\n",
    "plt.plot(time,dyn.TE-dyn.TE[0],label='TE')\n",
    "plt.legend()"
   ],
   "metadata": {
    "collapsed": false,
    "is_executing": true
   },
   "id": "1bbf296515aa3c0a"
  },
  {
   "cell_type": "code",
   "execution_count": null,
   "outputs": [],
   "source": [
    "dyn.z_e[-1]"
   ],
   "metadata": {
    "collapsed": false,
    "is_executing": true
   },
   "id": "896d84fa2ad7e9ca"
  },
  {
   "cell_type": "code",
   "execution_count": null,
   "outputs": [],
   "source": [
    "dyn.z_e[0]"
   ],
   "metadata": {
    "collapsed": false,
    "is_executing": true
   },
   "id": "e0208188b438c4ac"
  },
  {
   "cell_type": "code",
   "execution_count": null,
   "outputs": [],
   "source": [
    "plt.plot(time,cmw)\n",
    "plt.plot(time,clt,label='clt')\n",
    "plt.plot(time,cm,label='cm',color='green')\n",
    "plt.plot(time,dyn.My_b,label='my')\n",
    "plt.plot(time,dyn.Pitch/100,label='Pitch')\n",
    "\n",
    "plt.legend()\n"
   ],
   "metadata": {
    "collapsed": false,
    "is_executing": true
   },
   "id": "2b00c3b899f0d4f8"
  },
  {
   "cell_type": "code",
   "execution_count": null,
   "outputs": [],
   "source": [
    "plt.plot(dyn.delta_T)"
   ],
   "metadata": {
    "collapsed": false,
    "is_executing": true
   },
   "id": "ca10612c8a68963b"
  },
  {
   "cell_type": "code",
   "execution_count": null,
   "outputs": [],
   "source": [
    " np.array([dyn.Pitch,dyn.dtheta]).T"
   ],
   "metadata": {
    "collapsed": false,
    "is_executing": true
   },
   "id": "64fb0566da715df7"
  },
  {
   "cell_type": "code",
   "execution_count": null,
   "outputs": [],
   "source": [
    "dyn.BodyXVelocity"
   ],
   "metadata": {
    "collapsed": false,
    "is_executing": true
   },
   "id": "a81b18f6306f95b"
  },
  {
   "cell_type": "code",
   "execution_count": null,
   "outputs": [],
   "source": [
    "dyn.My_b"
   ],
   "metadata": {
    "collapsed": false,
    "is_executing": true
   },
   "id": "1bb7c5d4ea9c4f20"
  },
  {
   "cell_type": "code",
   "execution_count": null,
   "outputs": [],
   "source": [
    "dyn.Altitude"
   ],
   "metadata": {
    "collapsed": false,
    "is_executing": true
   },
   "id": "ad4ced1a7d31b699"
  },
  {
   "cell_type": "code",
   "execution_count": null,
   "outputs": [],
   "source": [],
   "metadata": {
    "collapsed": false,
    "is_executing": true
   },
   "id": "7be5737f87ea722c"
  }
 ],
 "metadata": {
  "kernelspec": {
   "display_name": "Python 3",
   "language": "python",
   "name": "python3"
  },
  "language_info": {
   "codemirror_mode": {
    "name": "ipython",
    "version": 2
   },
   "file_extension": ".py",
   "mimetype": "text/x-python",
   "name": "python",
   "nbconvert_exporter": "python",
   "pygments_lexer": "ipython2",
   "version": "2.7.6"
  }
 },
 "nbformat": 4,
 "nbformat_minor": 5
}
